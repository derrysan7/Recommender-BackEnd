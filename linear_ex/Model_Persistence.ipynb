{
 "cells": [
  {
   "cell_type": "code",
   "execution_count": 1,
   "metadata": {},
   "outputs": [
    {
     "data": {
      "text/plain": [
       "array([115790.21011287,  71498.27809463, 102596.86866063,  75267.80422384,\n",
       "        55477.79204548,  60189.69970699])"
      ]
     },
     "execution_count": 1,
     "metadata": {},
     "output_type": "execute_result"
    }
   ],
   "source": [
    "import pandas as pd\n",
    "import numpy as np\n",
    "from sklearn.model_selection import train_test_split\n",
    "from sklearn.linear_model import LinearRegression\n",
    "from sklearn.externals import joblib\n",
    "import requests, json\n",
    "\n",
    "df = pd.read_csv(\"./SalaryData.csv\")\n",
    "\n",
    "train_set, test_set = train_test_split(df, test_size=0.2, random_state=42)\n",
    "\n",
    "df_copy = train_set.copy()\n",
    "\n",
    "test_set_full = test_set.copy()\n",
    "test_set = test_set.drop([\"Salary\"], axis=1)\n",
    "\n",
    "train_labels = df_copy[\"Salary\"]\n",
    "\n",
    "train_set_full = train_set.copy()\n",
    "train_set = train_set.drop([\"Salary\"], axis=1)\n",
    "\n",
    "lin_reg = LinearRegression()\n",
    "\n",
    "lin_reg.fit(train_set, train_labels)\n",
    "\n",
    "salary_pred = lin_reg.predict(test_set)\n",
    "\n",
    "salary_pred"
   ]
  },
  {
   "cell_type": "code",
   "execution_count": 2,
   "metadata": {},
   "outputs": [
    {
     "data": {
      "text/plain": [
       "LinearRegression(copy_X=True, fit_intercept=True, n_jobs=1, normalize=False)"
      ]
     },
     "execution_count": 2,
     "metadata": {},
     "output_type": "execute_result"
    }
   ],
   "source": [
    "import pickle\n",
    "\n",
    "with open(\"python_lin_reg_model.pkl\", \"wb\") as file_handler:\n",
    "    pickle.dump(lin_reg, file_handler)\n",
    "    \n",
    "with open(\"python_lin_reg_model.pkl\", \"rb\") as file_handler:\n",
    "    loaded_pickle = pickle.load(file_handler)\n",
    "    \n",
    "loaded_pickle"
   ]
  },
  {
   "cell_type": "code",
   "execution_count": 3,
   "metadata": {},
   "outputs": [
    {
     "data": {
      "text/plain": [
       "['training_labels.pkl']"
      ]
     },
     "execution_count": 3,
     "metadata": {},
     "output_type": "execute_result"
    }
   ],
   "source": [
    "BASE_URL = \"http://localhost:5000\"\n",
    "\n",
    "joblib.dump(lin_reg, \"linear_regression_model.pkl\")\n",
    "\n",
    "joblib.dump(train_set, \"training_data.pkl\")\n",
    "joblib.dump(train_labels, \"training_labels.pkl\")"
   ]
  },
  {
   "cell_type": "code",
   "execution_count": 4,
   "metadata": {},
   "outputs": [
    {
     "data": {
      "text/plain": [
       "[100712.10559602463]"
      ]
     },
     "execution_count": 4,
     "metadata": {},
     "output_type": "execute_result"
    }
   ],
   "source": [
    "years_exp = {\"yearsOfExperience\": 8}\n",
    "\n",
    "response = requests.post(\"{}/predict\".format(BASE_URL), json = years_exp)\n",
    "\n",
    "response.json()"
   ]
  },
  {
   "cell_type": "code",
   "execution_count": 5,
   "metadata": {},
   "outputs": [
    {
     "data": {
      "text/html": [
       "<div>\n",
       "<style scoped>\n",
       "    .dataframe tbody tr th:only-of-type {\n",
       "        vertical-align: middle;\n",
       "    }\n",
       "\n",
       "    .dataframe tbody tr th {\n",
       "        vertical-align: top;\n",
       "    }\n",
       "\n",
       "    .dataframe thead th {\n",
       "        text-align: right;\n",
       "    }\n",
       "</style>\n",
       "<table border=\"1\" class=\"dataframe\">\n",
       "  <thead>\n",
       "    <tr style=\"text-align: right;\">\n",
       "      <th></th>\n",
       "      <th>YearsExperience</th>\n",
       "      <th>Salary</th>\n",
       "    </tr>\n",
       "  </thead>\n",
       "  <tbody>\n",
       "    <tr>\n",
       "      <th>22</th>\n",
       "      <td>7.9</td>\n",
       "      <td>101302.0</td>\n",
       "    </tr>\n",
       "    <tr>\n",
       "      <th>21</th>\n",
       "      <td>7.1</td>\n",
       "      <td>98273.0</td>\n",
       "    </tr>\n",
       "  </tbody>\n",
       "</table>\n",
       "</div>"
      ],
      "text/plain": [
       "    YearsExperience    Salary\n",
       "22              7.9  101302.0\n",
       "21              7.1   98273.0"
      ]
     },
     "execution_count": 5,
     "metadata": {},
     "output_type": "execute_result"
    }
   ],
   "source": [
    "df_copy.query('YearsExperience > 7 and YearsExperience <= 8')"
   ]
  },
  {
   "cell_type": "code",
   "execution_count": 6,
   "metadata": {},
   "outputs": [
    {
     "data": {
      "text/plain": [
       "u'Retrained model successfully.'"
      ]
     },
     "execution_count": 6,
     "metadata": {},
     "output_type": "execute_result"
    }
   ],
   "source": [
    "retrain_data = json.dumps([{\"YearsExperience\": 12,\"Salary\": 140000}, \n",
    "                   {\"YearsExperience\": 12.1,\"Salary\": 142000}])\n",
    "\n",
    "response = requests.post(\"{}/retrain\".format(BASE_URL), json = retrain_data)\n",
    "\n",
    "response.json()"
   ]
  },
  {
   "cell_type": "code",
   "execution_count": 7,
   "metadata": {},
   "outputs": [
    {
     "data": {
      "text/plain": [
       "[101090.28347749889]"
      ]
     },
     "execution_count": 7,
     "metadata": {},
     "output_type": "execute_result"
    }
   ],
   "source": [
    "years_exp = {\"yearsOfExperience\": 8}\n",
    "\n",
    "response = requests.post(\"{}/predict\".format(BASE_URL), json = years_exp)\n",
    "\n",
    "response.json()"
   ]
  },
  {
   "cell_type": "code",
   "execution_count": 8,
   "metadata": {},
   "outputs": [
    {
     "data": {
      "text/plain": [
       "{u'coefficients': [9517.91869385473],\n",
       " u'intercepts': 24946.93392666104,\n",
       " u'score': 0.9752915464484424}"
      ]
     },
     "execution_count": 8,
     "metadata": {},
     "output_type": "execute_result"
    }
   ],
   "source": [
    "response = requests.get(\"{}/currentDetails\".format(BASE_URL))\n",
    "\n",
    "response.json()"
   ]
  },
  {
   "cell_type": "code",
   "execution_count": null,
   "metadata": {},
   "outputs": [],
   "source": []
  }
 ],
 "metadata": {
  "kernelspec": {
   "display_name": "Python 2",
   "language": "python",
   "name": "python2"
  },
  "language_info": {
   "codemirror_mode": {
    "name": "ipython",
    "version": 2
   },
   "file_extension": ".py",
   "mimetype": "text/x-python",
   "name": "python",
   "nbconvert_exporter": "python",
   "pygments_lexer": "ipython2",
   "version": "2.7.14"
  }
 },
 "nbformat": 4,
 "nbformat_minor": 2
}
