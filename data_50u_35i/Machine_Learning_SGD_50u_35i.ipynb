{
 "cells": [
  {
   "cell_type": "code",
   "execution_count": 1,
   "metadata": {},
   "outputs": [],
   "source": [
    "import numpy as np\n",
    "import pandas as pd\n",
    "np.random.seed(0)"
   ]
  },
  {
   "cell_type": "code",
   "execution_count": 2,
   "metadata": {},
   "outputs": [
    {
     "name": "stdout",
     "output_type": "stream",
     "text": [
      "D:\\Documents\\Tugas\\Anaconda\\data_50u_35i\\data\n"
     ]
    }
   ],
   "source": [
    "cd data/"
   ]
  },
  {
   "cell_type": "code",
   "execution_count": 3,
   "metadata": {},
   "outputs": [
    {
     "data": {
      "text/html": [
       "<div>\n",
       "<style scoped>\n",
       "    .dataframe tbody tr th:only-of-type {\n",
       "        vertical-align: middle;\n",
       "    }\n",
       "\n",
       "    .dataframe tbody tr th {\n",
       "        vertical-align: top;\n",
       "    }\n",
       "\n",
       "    .dataframe thead th {\n",
       "        text-align: right;\n",
       "    }\n",
       "</style>\n",
       "<table border=\"1\" class=\"dataframe\">\n",
       "  <thead>\n",
       "    <tr style=\"text-align: right;\">\n",
       "      <th></th>\n",
       "      <th>user_id</th>\n",
       "      <th>item_id</th>\n",
       "      <th>rating</th>\n",
       "    </tr>\n",
       "  </thead>\n",
       "  <tbody>\n",
       "    <tr>\n",
       "      <th>0</th>\n",
       "      <td>1</td>\n",
       "      <td>7159</td>\n",
       "      <td>5</td>\n",
       "    </tr>\n",
       "    <tr>\n",
       "      <th>1</th>\n",
       "      <td>1</td>\n",
       "      <td>7164</td>\n",
       "      <td>3</td>\n",
       "    </tr>\n",
       "    <tr>\n",
       "      <th>2</th>\n",
       "      <td>1</td>\n",
       "      <td>7941</td>\n",
       "      <td>3</td>\n",
       "    </tr>\n",
       "    <tr>\n",
       "      <th>3</th>\n",
       "      <td>1</td>\n",
       "      <td>7948</td>\n",
       "      <td>5</td>\n",
       "    </tr>\n",
       "    <tr>\n",
       "      <th>4</th>\n",
       "      <td>1</td>\n",
       "      <td>7950</td>\n",
       "      <td>4</td>\n",
       "    </tr>\n",
       "  </tbody>\n",
       "</table>\n",
       "</div>"
      ],
      "text/plain": [
       "   user_id  item_id  rating\n",
       "0        1     7159       5\n",
       "1        1     7164       3\n",
       "2        1     7941       3\n",
       "3        1     7948       5\n",
       "4        1     7950       4"
      ]
     },
     "execution_count": 3,
     "metadata": {},
     "output_type": "execute_result"
    }
   ],
   "source": [
    "names = ['user_id', 'item_id', 'rating']\n",
    "df = pd.read_csv('reviews_50u_35i_ready.csv', sep=',', names=names)\n",
    "df.head()"
   ]
  },
  {
   "cell_type": "code",
   "execution_count": 4,
   "metadata": {},
   "outputs": [
    {
     "data": {
      "text/plain": [
       "array([[0., 0., 0., ..., 0., 0., 0.],\n",
       "       [0., 0., 0., ..., 0., 0., 0.],\n",
       "       [0., 0., 0., ..., 0., 0., 0.],\n",
       "       ...,\n",
       "       [0., 0., 0., ..., 0., 0., 0.],\n",
       "       [0., 0., 0., ..., 0., 0., 0.],\n",
       "       [0., 0., 0., ..., 0., 0., 0.]])"
      ]
     },
     "execution_count": 4,
     "metadata": {},
     "output_type": "execute_result"
    }
   ],
   "source": [
    "n_users = df.user_id.unique().shape[0]\n",
    "n_items = df.item_id.unique().shape[0]\n",
    "ratings = np.zeros((n_users, n_items))\n",
    "for row in df.itertuples():\n",
    "    ratings[row[1]-1, row[2]-1] = row[3]\n",
    "ratings"
   ]
  },
  {
   "cell_type": "code",
   "execution_count": 5,
   "metadata": {},
   "outputs": [
    {
     "name": "stdout",
     "output_type": "stream",
     "text": [
      "8625 users\n",
      "25877 items\n",
      "Sparsity: 0.41%\n"
     ]
    }
   ],
   "source": [
    "print str(n_users) + ' users'\n",
    "print str(n_items) + ' items'\n",
    "sparsity = float(len(ratings.nonzero()[0]))\n",
    "sparsity /= (ratings.shape[0] * ratings.shape[1])\n",
    "sparsity *= 100\n",
    "print 'Sparsity: {:4.2f}%'.format(sparsity)"
   ]
  },
  {
   "cell_type": "code",
   "execution_count": 6,
   "metadata": {},
   "outputs": [],
   "source": [
    "def train_test_split(ratings):\n",
    "    test = np.zeros(ratings.shape)\n",
    "    train = ratings.copy()\n",
    "    for user in xrange(ratings.shape[0]):\n",
    "        test_ratings = np.random.choice(ratings[user, :].nonzero()[0],\n",
    "                                       size=10,replace=False)\n",
    "        train[user, test_ratings] = 0.\n",
    "        test[user, test_ratings] = ratings[user, test_ratings]\n",
    "        \n",
    "    assert(np.all((train * test) == 0))\n",
    "    return train, test"
   ]
  },
  {
   "cell_type": "code",
   "execution_count": 7,
   "metadata": {},
   "outputs": [],
   "source": [
    "train, test = train_test_split(ratings)"
   ]
  },
  {
   "cell_type": "code",
   "execution_count": 7,
   "metadata": {},
   "outputs": [],
   "source": [
    "from ExplicitMF import ExplicitMF"
   ]
  },
  {
   "cell_type": "code",
   "execution_count": 9,
   "metadata": {},
   "outputs": [
    {
     "name": "stdout",
     "output_type": "stream",
     "text": [
      "Iteration: 1\n",
      "Train mse: 0.8752063629356145\n",
      "Test mse: 0.8765809957140829\n",
      "Iteration: 2\n",
      "Train mse: 0.8603859773492043\n",
      "Test mse: 0.8651531246043279\n",
      "Iteration: 5\n",
      "Train mse: 0.8267327763242515\n",
      "Test mse: 0.8399145170534281\n",
      "Iteration: 10\n",
      "Train mse: 0.7907393105698765\n",
      "Test mse: 0.8141897551754134\n",
      "Iteration: 25\n",
      "\tcurrent iteration: 10\n",
      "Train mse: 0.7405283155053887\n",
      "Test mse: 0.781876119619642\n",
      "Iteration: 50\n",
      "\tcurrent iteration: 10\n",
      "\tcurrent iteration: 20\n",
      "Train mse: 0.7116021654002166\n",
      "Test mse: 0.7680537412135559\n",
      "Iteration: 100\n",
      "\tcurrent iteration: 10\n",
      "\tcurrent iteration: 20\n",
      "\tcurrent iteration: 30\n",
      "\tcurrent iteration: 40\n",
      "\tcurrent iteration: 50\n",
      "Train mse: 0.677868293292404\n",
      "Test mse: 0.764666785923276\n",
      "Iteration: 200\n",
      "\tcurrent iteration: 10\n",
      "\tcurrent iteration: 20\n",
      "\tcurrent iteration: 30\n",
      "\tcurrent iteration: 40\n",
      "\tcurrent iteration: 50\n",
      "\tcurrent iteration: 60\n",
      "\tcurrent iteration: 70\n",
      "\tcurrent iteration: 80\n",
      "\tcurrent iteration: 90\n",
      "\tcurrent iteration: 100\n",
      "Train mse: 0.4848495133338102\n",
      "Test mse: 0.7766119918890019\n"
     ]
    }
   ],
   "source": [
    "MF_SGD = ExplicitMF(train, 40, learning='sgd', verbose=True)\n",
    "iter_array = [1, 2, 5, 10, 25, 50, 100, 200]\n",
    "MF_SGD.calculate_learning_curve(iter_array, test, learning_rate=0.001)"
   ]
  },
  {
   "cell_type": "code",
   "execution_count": 9,
   "metadata": {},
   "outputs": [],
   "source": [
    "import matplotlib.pyplot as plt\n",
    "import seaborn as sns\n",
    "sns.set()\n",
    "\n",
    "def plot_learning_curve(iter_array, model):\n",
    "    plt.plot(iter_array, model.train_mse, label='Training', linewidth=5)\n",
    "    plt.plot(iter_array, model.test_mse, label='Test', linewidth=5)\n",
    "    \n",
    "    plt.xticks(fontsize=16);\n",
    "    plt.yticks(fontsize=16);\n",
    "    plt.xlabel('iterations', fontsize=30);\n",
    "    plt.ylabel('MSE', fontsize=30);\n",
    "    plt.legend(loc='best', fontsize=20);"
   ]
  },
  {
   "cell_type": "code",
   "execution_count": 11,
   "metadata": {},
   "outputs": [
    {
     "data": {
      "image/png": "[encoded data removed]",
      "text/plain": [
       "<matplotlib.figure.Figure at 0x18555940>"
      ]
     },
     "metadata": {},
     "output_type": "display_data"
    }
   ],
   "source": [
    "plot_learning_curve(iter_array, MF_SGD)"
   ]
  },
  {
   "cell_type": "code",
   "execution_count": 12,
   "metadata": {},
   "outputs": [
    {
     "name": "stdout",
     "output_type": "stream",
     "text": [
      "Rate: 1e-05\n",
      "New optimal hyperparameters\n",
      "learning_rate                                                1e-05\n",
      "model            <ExplicitMF.ExplicitMF instance at 0x000000000...\n",
      "n_iter                                                         200\n",
      "test_mse                                                  0.865158\n",
      "train_mse                                                 0.860392\n",
      "dtype: object\n",
      "Rate: 0.0001\n",
      "New optimal hyperparameters\n",
      "learning_rate                                               0.0001\n",
      "model            <ExplicitMF.ExplicitMF instance at 0x000000000...\n",
      "n_iter                                                         200\n",
      "test_mse                                                  0.788713\n",
      "train_mse                                                 0.752006\n",
      "dtype: object\n",
      "Rate: 0.001\n",
      "New optimal hyperparameters\n",
      "learning_rate                                                0.001\n",
      "model            <ExplicitMF.ExplicitMF instance at 0x000000000...\n",
      "n_iter                                                         100\n",
      "test_mse                                                  0.764526\n",
      "train_mse                                                  0.67778\n",
      "dtype: object\n",
      "Rate: 0.01\n"
     ]
    }
   ],
   "source": [
    "iter_array = [1, 2, 5, 10, 25, 50, 100, 200]\n",
    "learning_rates = [1e-5, 1e-4, 1e-3, 1e-2]\n",
    "\n",
    "best_params = {}\n",
    "best_params['learning_rate'] = None\n",
    "best_params['n_iter'] = 0\n",
    "best_params['train_mse'] = np.inf\n",
    "best_params['test_mse'] = np.inf\n",
    "best_params['model'] = None\n",
    "\n",
    "for rate in learning_rates:\n",
    "    print 'Rate: {}'.format(rate)\n",
    "    MF_SGD = ExplicitMF(train, n_factors=40, learning='sgd')\n",
    "    MF_SGD.calculate_learning_curve(iter_array, test, learning_rate=rate)\n",
    "    min_idx = np.argmin(MF_SGD.test_mse)\n",
    "    if MF_SGD.test_mse[min_idx] < best_params['test_mse']:        \n",
    "        best_params['n_iter'] = iter_array[min_idx]\n",
    "        best_params['learning_rate'] = rate\n",
    "        best_params['train_mse'] = MF_SGD.train_mse[min_idx]\n",
    "        best_params['test_mse'] = MF_SGD.test_mse[min_idx]\n",
    "        best_params['model'] = MF_SGD\n",
    "        print 'New optimal hyperparameters'\n",
    "        print pd.Series(best_params)"
   ]
  },
  {
   "cell_type": "code",
   "execution_count": 13,
   "metadata": {},
   "outputs": [
    {
     "name": "stdout",
     "output_type": "stream",
     "text": [
      "Factors: 5\n",
      "Regularizations: 0.001\n",
      "New optimal hyperparameters\n",
      "model        <ExplicitMF.ExplicitMF instance at 0x000000000...\n",
      "n_factors                                                    5\n",
      "n_iter                                                      50\n",
      "reg                                                      0.001\n",
      "test_mse                                              0.775969\n",
      "train_mse                                             0.699106\n",
      "dtype: object\n",
      "Regularizations: 0.01\n",
      "New optimal hyperparameters\n",
      "model        <ExplicitMF.ExplicitMF instance at 0x000000000...\n",
      "n_factors                                                    5\n",
      "n_iter                                                      50\n",
      "reg                                                       0.01\n",
      "test_mse                                              0.774411\n",
      "train_mse                                             0.700211\n",
      "dtype: object\n",
      "Regularizations: 0.1\n",
      "New optimal hyperparameters\n",
      "model        <ExplicitMF.ExplicitMF instance at 0x000000000...\n",
      "n_factors                                                    5\n",
      "n_iter                                                     100\n",
      "reg                                                        0.1\n",
      "test_mse                                              0.763977\n",
      "train_mse                                             0.692077\n",
      "dtype: object\n",
      "Regularizations: 1.0\n",
      "Factors: 10\n",
      "Regularizations: 0.001\n",
      "Regularizations: 0.01\n",
      "Regularizations: 0.1\n",
      "New optimal hyperparameters\n",
      "model        <ExplicitMF.ExplicitMF instance at 0x000000000...\n",
      "n_factors                                                   10\n",
      "n_iter                                                     200\n",
      "reg                                                        0.1\n",
      "test_mse                                              0.762139\n",
      "train_mse                                             0.679542\n",
      "dtype: object\n",
      "Regularizations: 1.0\n",
      "Factors: 20\n",
      "Regularizations: 0.001\n",
      "Regularizations: 0.01\n",
      "Regularizations: 0.1\n",
      "New optimal hyperparameters\n",
      "model        <ExplicitMF.ExplicitMF instance at 0x000000000...\n",
      "n_factors                                                   20\n",
      "n_iter                                                     200\n",
      "reg                                                        0.1\n",
      "test_mse                                              0.761719\n",
      "train_mse                                             0.689204\n",
      "dtype: object\n",
      "Regularizations: 1.0\n",
      "Factors: 40\n",
      "Regularizations: 0.001\n",
      "Regularizations: 0.01\n",
      "Regularizations: 0.1\n",
      "Regularizations: 1.0\n",
      "Factors: 80\n",
      "Regularizations: 0.001\n",
      "Regularizations: 0.01\n",
      "Regularizations: 0.1\n",
      "Regularizations: 1.0\n"
     ]
    }
   ],
   "source": [
    "iter_array = [1, 2, 5, 10, 25, 50, 100, 200]\n",
    "latent_factors = [5, 10, 20, 40, 80]\n",
    "regularizations = [0.001, 0.01, 0.1, 1.]\n",
    "regularizations.sort()\n",
    "\n",
    "best_params = {}\n",
    "best_params['n_factors'] = latent_factors[0]\n",
    "best_params['reg'] = regularizations[0]\n",
    "best_params['n_iter'] = 0\n",
    "best_params['train_mse'] = np.inf\n",
    "best_params['test_mse'] = np.inf\n",
    "best_params['model'] = None\n",
    "\n",
    "for fact in latent_factors:\n",
    "    print 'Factors: {}'.format(fact)\n",
    "    for reg in regularizations:\n",
    "        print 'Regularizations: {}'.format(reg)\n",
    "        MF_SGD = ExplicitMF(train, n_factors=fact, learning='sgd',\\\n",
    "                           user_fact_reg=reg, item_fact_reg=reg,\\\n",
    "                           user_bias_reg=reg, item_bias_reg=reg)\n",
    "        MF_SGD.calculate_learning_curve(iter_array, test,\\\n",
    "                                        learning_rate=0.001)\n",
    "        min_idx = np.argmin(MF_SGD.test_mse)\n",
    "        if MF_SGD.test_mse[min_idx] < best_params['test_mse']:\n",
    "            best_params['n_factors'] = fact\n",
    "            best_params['reg'] = reg\n",
    "            best_params['n_iter'] = iter_array[min_idx]\n",
    "            best_params['train_mse'] = MF_SGD.train_mse[min_idx]\n",
    "            best_params['test_mse'] = MF_SGD.test_mse[min_idx]\n",
    "            best_params['model'] = MF_SGD\n",
    "            print 'New optimal hyperparameters'\n",
    "            print pd.Series(best_params)"
   ]
  },
  {
   "cell_type": "code",
   "execution_count": 14,
   "metadata": {},
   "outputs": [
    {
     "data": {
      "image/png": "[encoded data removed]",
      "text/plain": [
       "<matplotlib.figure.Figure at 0x18539550>"
      ]
     },
     "metadata": {},
     "output_type": "display_data"
    }
   ],
   "source": [
    "plot_learning_curve(iter_array, best_params['model'])"
   ]
  },
  {
   "cell_type": "code",
   "execution_count": 15,
   "metadata": {},
   "outputs": [
    {
     "name": "stdout",
     "output_type": "stream",
     "text": [
      "Best regularization: 0.1\n",
      "Best latent factors: 20\n",
      "Best iterations: 200\n"
     ]
    }
   ],
   "source": [
    "print 'Best regularization: {}'.format(best_params['reg'])\n",
    "print 'Best latent factors: {}'.format(best_params['n_factors'])\n",
    "print 'Best iterations: {}'.format(best_params['n_iter'])"
   ]
  },
  {
   "cell_type": "code",
   "execution_count": 10,
   "metadata": {},
   "outputs": [
    {
     "name": "stdout",
     "output_type": "stream",
     "text": [
      "Factors: 20\n",
      "Regularizations: 0.01\n"
     ]
    },
    {
     "ename": "KeyboardInterrupt",
     "evalue": "",
     "output_type": "error",
     "traceback": [
      "\u001b[1;31m---------------------------------------------------------------------------\u001b[0m",
      "\u001b[1;31mKeyboardInterrupt\u001b[0m                         Traceback (most recent call last)",
      "\u001b[1;32m<ipython-input-10-f51b94607168>\u001b[0m in \u001b[0;36m<module>\u001b[1;34m()\u001b[0m\n\u001b[0;32m     26\u001b[0m         \u001b[1;32mprint\u001b[0m \u001b[1;34m'Regularizations: {}'\u001b[0m\u001b[1;33m.\u001b[0m\u001b[0mformat\u001b[0m\u001b[1;33m(\u001b[0m\u001b[0mreg\u001b[0m\u001b[1;33m)\u001b[0m\u001b[1;33m\u001b[0m\u001b[0m\n\u001b[0;32m     27\u001b[0m         \u001b[0mMF_SGD\u001b[0m \u001b[1;33m=\u001b[0m \u001b[0mExplicitMF\u001b[0m\u001b[1;33m(\u001b[0m\u001b[0mtrain\u001b[0m\u001b[1;33m,\u001b[0m \u001b[0mn_factors\u001b[0m\u001b[1;33m=\u001b[0m\u001b[0mfact\u001b[0m\u001b[1;33m,\u001b[0m \u001b[0mlearning\u001b[0m\u001b[1;33m=\u001b[0m\u001b[1;34m'sgd'\u001b[0m\u001b[1;33m,\u001b[0m                           \u001b[0muser_fact_reg\u001b[0m\u001b[1;33m=\u001b[0m\u001b[0mreg\u001b[0m\u001b[1;33m,\u001b[0m \u001b[0mitem_fact_reg\u001b[0m\u001b[1;33m=\u001b[0m\u001b[0mreg\u001b[0m\u001b[1;33m,\u001b[0m                           \u001b[0muser_bias_reg\u001b[0m\u001b[1;33m=\u001b[0m\u001b[0mreg\u001b[0m\u001b[1;33m,\u001b[0m \u001b[0mitem_bias_reg\u001b[0m\u001b[1;33m=\u001b[0m\u001b[0mreg\u001b[0m\u001b[1;33m)\u001b[0m\u001b[1;33m\u001b[0m\u001b[0m\n\u001b[1;32m---> 28\u001b[1;33m         \u001b[0mMF_SGD\u001b[0m\u001b[1;33m.\u001b[0m\u001b[0mcalculate_learning_curve\u001b[0m\u001b[1;33m(\u001b[0m\u001b[0miter_array\u001b[0m\u001b[1;33m,\u001b[0m \u001b[0mtest\u001b[0m\u001b[1;33m,\u001b[0m                                        \u001b[0mlearning_rate\u001b[0m\u001b[1;33m=\u001b[0m\u001b[1;36m0.001\u001b[0m\u001b[1;33m)\u001b[0m\u001b[1;33m\u001b[0m\u001b[0m\n\u001b[0m\u001b[0;32m     29\u001b[0m         \u001b[0mmin_idx\u001b[0m \u001b[1;33m=\u001b[0m \u001b[0mnp\u001b[0m\u001b[1;33m.\u001b[0m\u001b[0margmin\u001b[0m\u001b[1;33m(\u001b[0m\u001b[0mMF_SGD\u001b[0m\u001b[1;33m.\u001b[0m\u001b[0mtest_mse\u001b[0m\u001b[1;33m)\u001b[0m\u001b[1;33m\u001b[0m\u001b[0m\n\u001b[0;32m     30\u001b[0m \u001b[1;33m\u001b[0m\u001b[0m\n",
      "\u001b[1;32mD:\\Documents\\Tugas\\Anaconda\\data_50u_35i\\data\\ExplicitMF.pyc\u001b[0m in \u001b[0;36mcalculate_learning_curve\u001b[1;34m(self, iter_array, test, learning_rate)\u001b[0m\n\u001b[0;32m    204\u001b[0m                                 \u001b[1;32mprint\u001b[0m \u001b[1;34m'Iteration: {}'\u001b[0m\u001b[1;33m.\u001b[0m\u001b[0mformat\u001b[0m\u001b[1;33m(\u001b[0m\u001b[0mn_iter\u001b[0m\u001b[1;33m)\u001b[0m\u001b[1;33m\u001b[0m\u001b[0m\n\u001b[0;32m    205\u001b[0m                         \u001b[1;32mif\u001b[0m \u001b[0mi\u001b[0m \u001b[1;33m==\u001b[0m \u001b[1;36m0\u001b[0m\u001b[1;33m:\u001b[0m\u001b[1;33m\u001b[0m\u001b[0m\n\u001b[1;32m--> 206\u001b[1;33m                                 \u001b[0mself\u001b[0m\u001b[1;33m.\u001b[0m\u001b[0mtrain\u001b[0m\u001b[1;33m(\u001b[0m\u001b[0mn_iter\u001b[0m \u001b[1;33m-\u001b[0m \u001b[0miter_diff\u001b[0m\u001b[1;33m,\u001b[0m \u001b[0mlearning_rate\u001b[0m\u001b[1;33m)\u001b[0m\u001b[1;33m\u001b[0m\u001b[0m\n\u001b[0m\u001b[0;32m    207\u001b[0m                         \u001b[1;32melse\u001b[0m\u001b[1;33m:\u001b[0m\u001b[1;33m\u001b[0m\u001b[0m\n\u001b[0;32m    208\u001b[0m                                 \u001b[0mself\u001b[0m\u001b[1;33m.\u001b[0m\u001b[0mpartial_train\u001b[0m\u001b[1;33m(\u001b[0m\u001b[0mn_iter\u001b[0m \u001b[1;33m-\u001b[0m \u001b[0miter_diff\u001b[0m\u001b[1;33m)\u001b[0m\u001b[1;33m\u001b[0m\u001b[0m\n",
      "\u001b[1;32mD:\\Documents\\Tugas\\Anaconda\\data_50u_35i\\data\\ExplicitMF.pyc\u001b[0m in \u001b[0;36mtrain\u001b[1;34m(self, n_iter, learning_rate)\u001b[0m\n\u001b[0;32m    109\u001b[0m                         \u001b[0mself\u001b[0m\u001b[1;33m.\u001b[0m\u001b[0mitem_bias\u001b[0m \u001b[1;33m=\u001b[0m \u001b[0mnp\u001b[0m\u001b[1;33m.\u001b[0m\u001b[0mzeros\u001b[0m\u001b[1;33m(\u001b[0m\u001b[0mself\u001b[0m\u001b[1;33m.\u001b[0m\u001b[0mn_items\u001b[0m\u001b[1;33m)\u001b[0m\u001b[1;33m\u001b[0m\u001b[0m\n\u001b[0;32m    110\u001b[0m                         \u001b[0mself\u001b[0m\u001b[1;33m.\u001b[0m\u001b[0mglobal_bias\u001b[0m \u001b[1;33m=\u001b[0m \u001b[0mnp\u001b[0m\u001b[1;33m.\u001b[0m\u001b[0mmean\u001b[0m\u001b[1;33m(\u001b[0m\u001b[0mself\u001b[0m\u001b[1;33m.\u001b[0m\u001b[0mratings\u001b[0m\u001b[1;33m[\u001b[0m\u001b[0mnp\u001b[0m\u001b[1;33m.\u001b[0m\u001b[0mwhere\u001b[0m\u001b[1;33m(\u001b[0m\u001b[0mself\u001b[0m\u001b[1;33m.\u001b[0m\u001b[0mratings\u001b[0m \u001b[1;33m!=\u001b[0m \u001b[1;36m0\u001b[0m\u001b[1;33m)\u001b[0m\u001b[1;33m]\u001b[0m\u001b[1;33m)\u001b[0m\u001b[1;33m\u001b[0m\u001b[0m\n\u001b[1;32m--> 111\u001b[1;33m                         \u001b[0mself\u001b[0m\u001b[1;33m.\u001b[0m\u001b[0mpartial_train\u001b[0m\u001b[1;33m(\u001b[0m\u001b[0mn_iter\u001b[0m\u001b[1;33m)\u001b[0m\u001b[1;33m\u001b[0m\u001b[0m\n\u001b[0m\u001b[0;32m    112\u001b[0m \u001b[1;33m\u001b[0m\u001b[0m\n\u001b[0;32m    113\u001b[0m \u001b[1;33m\u001b[0m\u001b[0m\n",
      "\u001b[1;32mD:\\Documents\\Tugas\\Anaconda\\data_50u_35i\\data\\ExplicitMF.pyc\u001b[0m in \u001b[0;36mpartial_train\u001b[1;34m(self, n_iter)\u001b[0m\n\u001b[0;32m    135\u001b[0m                                 \u001b[0mself\u001b[0m\u001b[1;33m.\u001b[0m\u001b[0mtraining_indices\u001b[0m \u001b[1;33m=\u001b[0m \u001b[0mnp\u001b[0m\u001b[1;33m.\u001b[0m\u001b[0marange\u001b[0m\u001b[1;33m(\u001b[0m\u001b[0mself\u001b[0m\u001b[1;33m.\u001b[0m\u001b[0mn_samples\u001b[0m\u001b[1;33m)\u001b[0m\u001b[1;33m\u001b[0m\u001b[0m\n\u001b[0;32m    136\u001b[0m                                 \u001b[0mnp\u001b[0m\u001b[1;33m.\u001b[0m\u001b[0mrandom\u001b[0m\u001b[1;33m.\u001b[0m\u001b[0mshuffle\u001b[0m\u001b[1;33m(\u001b[0m\u001b[0mself\u001b[0m\u001b[1;33m.\u001b[0m\u001b[0mtraining_indices\u001b[0m\u001b[1;33m)\u001b[0m\u001b[1;33m\u001b[0m\u001b[0m\n\u001b[1;32m--> 137\u001b[1;33m                                 \u001b[0mself\u001b[0m\u001b[1;33m.\u001b[0m\u001b[0msgd\u001b[0m\u001b[1;33m(\u001b[0m\u001b[1;33m)\u001b[0m\u001b[1;33m\u001b[0m\u001b[0m\n\u001b[0m\u001b[0;32m    138\u001b[0m                         \u001b[0mctr\u001b[0m \u001b[1;33m+=\u001b[0m \u001b[1;36m1\u001b[0m\u001b[1;33m\u001b[0m\u001b[0m\n\u001b[0;32m    139\u001b[0m \u001b[1;33m\u001b[0m\u001b[0m\n",
      "\u001b[1;32mD:\\Documents\\Tugas\\Anaconda\\data_50u_35i\\data\\ExplicitMF.pyc\u001b[0m in \u001b[0;36msgd\u001b[1;34m(self)\u001b[0m\n\u001b[0;32m    157\u001b[0m                         \u001b[0mself\u001b[0m\u001b[1;33m.\u001b[0m\u001b[0mitem_vecs\u001b[0m\u001b[1;33m[\u001b[0m\u001b[0mi\u001b[0m\u001b[1;33m,\u001b[0m \u001b[1;33m:\u001b[0m\u001b[1;33m]\u001b[0m \u001b[1;33m+=\u001b[0m \u001b[0mself\u001b[0m\u001b[1;33m.\u001b[0m\u001b[0mlearning_rate\u001b[0m \u001b[1;33m*\u001b[0m\u001b[0;31m \u001b[0m\u001b[0;31m\\\u001b[0m\u001b[1;33m\u001b[0m\u001b[0m\n\u001b[0;32m    158\u001b[0m \t\t\t\t\t\t\t\t\t(e * self.user_vecs[u, :] - \\\n\u001b[1;32m--> 159\u001b[1;33m \t\t\t\t\t\t\t\t\t self.item_fact_reg * self.item_vecs[i,:])\n\u001b[0m\u001b[0;32m    160\u001b[0m         \u001b[1;32mdef\u001b[0m \u001b[0mpredict\u001b[0m\u001b[1;33m(\u001b[0m\u001b[0mself\u001b[0m\u001b[1;33m,\u001b[0m \u001b[0mu\u001b[0m\u001b[1;33m,\u001b[0m \u001b[0mi\u001b[0m\u001b[1;33m)\u001b[0m\u001b[1;33m:\u001b[0m\u001b[1;33m\u001b[0m\u001b[0m\n\u001b[0;32m    161\u001b[0m                 \u001b[1;34m\"\"\" Single user and item prediction.\"\"\"\u001b[0m\u001b[1;33m\u001b[0m\u001b[0m\n",
      "\u001b[1;31mKeyboardInterrupt\u001b[0m: "
     ]
    }
   ],
   "source": [
    "iter_array = [200]\n",
    "latent_factors = [20, 40, 80]\n",
    "regularizations = [0.01, 0.1]\n",
    "regularizations.sort()\n",
    "\n",
    "cur_params = {}\n",
    "cur_params['n_factors'] = latent_factors[0]\n",
    "cur_params['reg'] = regularizations[0]\n",
    "cur_params['n_iter'] = 0\n",
    "cur_params['train_mse'] = np.inf\n",
    "cur_params['test_mse'] = np.inf\n",
    "cur_params['model'] = None\n",
    "\n",
    "best_params = {}\n",
    "best_params['n_factors'] = latent_factors[0]\n",
    "best_params['reg'] = regularizations[0]\n",
    "best_params['n_iter'] = 0\n",
    "best_params['train_mse'] = np.inf\n",
    "best_params['test_mse'] = np.inf\n",
    "best_params['model'] = None\n",
    "\n",
    "\n",
    "for fact in latent_factors:\n",
    "    print 'Factors: {}'.format(fact)\n",
    "    for reg in regularizations:\n",
    "        print 'Regularizations: {}'.format(reg)\n",
    "        MF_SGD = ExplicitMF(train, n_factors=fact, learning='sgd',\\\n",
    "                           user_fact_reg=reg, item_fact_reg=reg,\\\n",
    "                           user_bias_reg=reg, item_bias_reg=reg)\n",
    "        MF_SGD.calculate_learning_curve(iter_array, test,\\\n",
    "                                        learning_rate=0.001)\n",
    "        min_idx = np.argmin(MF_SGD.test_mse)\n",
    "        \n",
    "        cur_params['n_factors'] = fact\n",
    "        cur_params['reg'] = reg\n",
    "        cur_params['n_iter'] = iter_array[min_idx]\n",
    "        cur_params['train_mse'] = MF_SGD.train_mse[min_idx]\n",
    "        cur_params['test_mse'] = MF_SGD.test_mse[min_idx]\n",
    "        cur_params['model'] = MF_SGD\n",
    "        print 'Current optimal hyperparameters'\n",
    "        print pd.Series(cur_params)\n",
    "            \n",
    "        if MF_SGD.test_mse[min_idx] < best_params['test_mse']:\n",
    "            best_params['n_factors'] = fact\n",
    "            best_params['reg'] = reg\n",
    "            best_params['n_iter'] = iter_array[min_idx]\n",
    "            best_params['train_mse'] = MF_SGD.train_mse[min_idx]\n",
    "            best_params['test_mse'] = MF_SGD.test_mse[min_idx]\n",
    "            best_params['model'] = MF_SGD\n",
    "            print 'New optimal hyperparameters'\n",
    "            print pd.Series(best_params)"
   ]
  },
  {
   "cell_type": "code",
   "execution_count": 8,
   "metadata": {},
   "outputs": [],
   "source": [
    "best_sgd_model = ExplicitMF(ratings, n_factors=20, learning='sgd', \\\n",
    "                            item_fact_reg=0.1, user_fact_reg=0.1, \\\n",
    "                            user_bias_reg=0.1, item_bias_reg=0.1)\n",
    "best_sgd_model.train(200, learning_rate=0.001)"
   ]
  },
  {
   "cell_type": "code",
   "execution_count": 102,
   "metadata": {},
   "outputs": [],
   "source": [
    "from IPython.display import HTML\n",
    "\n",
    "def display_top_k_books(similarity, idx_to_book, book_idx, k=10):\n",
    "    book_indices = np.argsort(similarity[book_idx,:])[::-1]\n",
    "    book_idx_list = ''\n",
    "    k_ctr = 0\n",
    "    # Start i at 1 to not grab the input book\n",
    "    i = 0\n",
    "    while k_ctr < 10:\n",
    "        book = idx_to_book[book_indices[i]]\n",
    "        if book != '':\n",
    "            book_idx_list += \"<h4>- %s<h4/>\"\\\n",
    "                      % book\n",
    "            k_ctr += 1\n",
    "        i += 1\n",
    "    display(HTML(book_idx_list))\n",
    "\n",
    "def compare_recs(sgd_similarity,\\\n",
    "                 idx_to_book, book_idx, k=10):\n",
    "\n",
    "    # Display SGD Recs\n",
    "    display(HTML('<font size=5>'+'SGD Recs'+'</font>'))\n",
    "    display_top_k_books(sgd_similarity,\\\n",
    "                          idx_to_book, book_idx)"
   ]
  },
  {
   "cell_type": "code",
   "execution_count": 104,
   "metadata": {},
   "outputs": [
    {
     "ename": "MemoryError",
     "evalue": "",
     "output_type": "error",
     "traceback": [
      "\u001b[1;31m---------------------------------------------------------------------------\u001b[0m",
      "\u001b[1;31mMemoryError\u001b[0m                               Traceback (most recent call last)",
      "\u001b[1;32m<ipython-input-104-4afb6bab0289>\u001b[0m in \u001b[0;36m<module>\u001b[1;34m()\u001b[0m\n\u001b[0;32m      4\u001b[0m     \u001b[1;32mreturn\u001b[0m \u001b[0msim\u001b[0m \u001b[1;33m/\u001b[0m \u001b[0mnorms\u001b[0m \u001b[1;33m/\u001b[0m \u001b[0mnorms\u001b[0m\u001b[1;33m.\u001b[0m\u001b[0mT\u001b[0m\u001b[1;33m\u001b[0m\u001b[0m\n\u001b[0;32m      5\u001b[0m \u001b[1;33m\u001b[0m\u001b[0m\n\u001b[1;32m----> 6\u001b[1;33m \u001b[0msgd_sim\u001b[0m \u001b[1;33m=\u001b[0m \u001b[0mcosine_similarity\u001b[0m\u001b[1;33m(\u001b[0m\u001b[0mbest_sgd_model\u001b[0m\u001b[1;33m)\u001b[0m\u001b[1;33m\u001b[0m\u001b[0m\n\u001b[0m",
      "\u001b[1;32m<ipython-input-104-4afb6bab0289>\u001b[0m in \u001b[0;36mcosine_similarity\u001b[1;34m(model)\u001b[0m\n\u001b[0;32m      2\u001b[0m     \u001b[0msim\u001b[0m \u001b[1;33m=\u001b[0m \u001b[0mmodel\u001b[0m\u001b[1;33m.\u001b[0m\u001b[0mitem_vecs\u001b[0m\u001b[1;33m.\u001b[0m\u001b[0mdot\u001b[0m\u001b[1;33m(\u001b[0m\u001b[0mmodel\u001b[0m\u001b[1;33m.\u001b[0m\u001b[0mitem_vecs\u001b[0m\u001b[1;33m.\u001b[0m\u001b[0mT\u001b[0m\u001b[1;33m)\u001b[0m\u001b[1;33m\u001b[0m\u001b[0m\n\u001b[0;32m      3\u001b[0m     \u001b[0mnorms\u001b[0m \u001b[1;33m=\u001b[0m \u001b[0mnp\u001b[0m\u001b[1;33m.\u001b[0m\u001b[0marray\u001b[0m\u001b[1;33m(\u001b[0m\u001b[1;33m[\u001b[0m\u001b[0mnp\u001b[0m\u001b[1;33m.\u001b[0m\u001b[0msqrt\u001b[0m\u001b[1;33m(\u001b[0m\u001b[0mnp\u001b[0m\u001b[1;33m.\u001b[0m\u001b[0mdiagonal\u001b[0m\u001b[1;33m(\u001b[0m\u001b[0msim\u001b[0m\u001b[1;33m)\u001b[0m\u001b[1;33m)\u001b[0m\u001b[1;33m]\u001b[0m\u001b[1;33m)\u001b[0m\u001b[1;33m\u001b[0m\u001b[0m\n\u001b[1;32m----> 4\u001b[1;33m     \u001b[1;32mreturn\u001b[0m \u001b[0msim\u001b[0m \u001b[1;33m/\u001b[0m \u001b[0mnorms\u001b[0m \u001b[1;33m/\u001b[0m \u001b[0mnorms\u001b[0m\u001b[1;33m.\u001b[0m\u001b[0mT\u001b[0m\u001b[1;33m\u001b[0m\u001b[0m\n\u001b[0m\u001b[0;32m      5\u001b[0m \u001b[1;33m\u001b[0m\u001b[0m\n\u001b[0;32m      6\u001b[0m \u001b[0msgd_sim\u001b[0m \u001b[1;33m=\u001b[0m \u001b[0mcosine_similarity\u001b[0m\u001b[1;33m(\u001b[0m\u001b[0mbest_sgd_model\u001b[0m\u001b[1;33m)\u001b[0m\u001b[1;33m\u001b[0m\u001b[0m\n",
      "\u001b[1;31mMemoryError\u001b[0m: "
     ]
    }
   ],
   "source": [
    "def cosine_similarity(model):\n",
    "    sim = model.item_vecs.dot(model.item_vecs.T)\n",
    "    norms = np.array([np.sqrt(np.diagonal(sim))])\n",
    "    return sim / norms / norms.T\n",
    "\n",
    "sgd_sim = cosine_similarity(best_sgd_model)"
   ]
  },
  {
   "cell_type": "code",
   "execution_count": 105,
   "metadata": {},
   "outputs": [],
   "source": [
    "import io\n",
    "# Load in book data\n",
    "idx_to_book = {}\n",
    "\n",
    "with io.open('reviews_50u_35i_info_items.csv', mode='r', encoding='utf-8-sig') as f:\n",
    "    for line in f.readlines():\n",
    "        info = line.split(',')        \n",
    "        if len(info[1]) <= 10:\n",
    "            for asin_char in xrange(len(info[1]), 11):\n",
    "                info[1] = '0' + info[1]\n",
    "        \n",
    "        idx_to_book[int(info[0])-1] = info[0] + ' : ' + info[1]    "
   ]
  },
  {
   "cell_type": "code",
   "execution_count": 108,
   "metadata": {},
   "outputs": [
    {
     "data": {
      "text/html": [
       "<font size=5>SGD Recs</font>"
      ],
      "text/plain": [
       "<IPython.core.display.HTML object>"
      ]
     },
     "metadata": {},
     "output_type": "display_data"
    },
    {
     "data": {
      "text/html": [
       "<h4>- 18809 : 1599472511\n",
       "<h4/><h4>- 16416 : 1480032557\n",
       "<h4/><h4>- 18549 : 1595142517\n",
       "<h4/><h4>- 9072 : 0615612369\n",
       "<h4/><h4>- 18844 : 1599952963\n",
       "<h4/><h4>- 10433 : 0764208098\n",
       "<h4/><h4>- 22122 : 161218152X\n",
       "<h4/><h4>- 140 : 0060193395\n",
       "<h4/><h4>- 6707 : 0399155007\n",
       "<h4/><h4>- 18020 : 1495979350\n",
       "<h4/>"
      ],
      "text/plain": [
       "<IPython.core.display.HTML object>"
      ]
     },
     "metadata": {},
     "output_type": "display_data"
    }
   ],
   "source": [
    "idx = 18808 \n",
    "compare_recs(sgd_sim, idx_to_book, idx)"
   ]
  },
  {
   "cell_type": "code",
   "execution_count": null,
   "metadata": {},
   "outputs": [],
   "source": []
  }
 ],
 "metadata": {
  "kernelspec": {
   "display_name": "Python 2",
   "language": "python",
   "name": "python2"
  },
  "language_info": {
   "codemirror_mode": {
    "name": "ipython",
    "version": 2
   },
   "file_extension": ".py",
   "mimetype": "text/x-python",
   "name": "python",
   "nbconvert_exporter": "python",
   "pygments_lexer": "ipython2",
   "version": "2.7.14"
  }
 },
 "nbformat": 4,
 "nbformat_minor": 2
}
