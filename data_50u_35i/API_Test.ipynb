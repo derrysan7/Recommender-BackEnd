{
 "cells": [
  {
   "cell_type": "code",
   "execution_count": 1,
   "metadata": {},
   "outputs": [],
   "source": [
    "import pandas as pd\n",
    "import numpy as np\n",
    "from sklearn.model_selection import train_test_split\n",
    "from sklearn.linear_model import LinearRegression\n",
    "from sklearn.externals import joblib\n",
    "import requests, json"
   ]
  },
  {
   "cell_type": "code",
   "execution_count": 2,
   "metadata": {},
   "outputs": [],
   "source": [
    "BASE_URL = \"http://localhost:5000\""
   ]
  },
  {
   "cell_type": "code",
   "execution_count": 4,
   "metadata": {},
   "outputs": [
    {
     "data": {
      "text/plain": [
       "'[{\"mat_id\":20071,\"item_id\":\"1939263077\"}, {\"mat_id\":3757,\"item_id\":\"0312367546\"}, {\"mat_id\":18220,\"item_id\":\"1558322035\"}, {\"mat_id\":15223,\"item_id\":\"1455576646\"}, {\"mat_id\":2146,\"item_id\":\"0142180823\"}, {\"mat_id\":9467,\"item_id\":\"0671315676\"}, {\"mat_id\":5116,\"item_id\":\"0345526481\"}, {\"mat_id\":12417,\"item_id\":\"0984247521\"}, {\"mat_id\":15219,\"item_id\":\"1455574880\"}, {\"mat_id\":9319,\"item_id\":\"0615922376\"}]'"
      ]
     },
     "execution_count": 4,
     "metadata": {},
     "output_type": "execute_result"
    }
   ],
   "source": [
    "item_mat = {\"ItemMat\": 15000}\n",
    "\n",
    "response = requests.post(\"{}/predict_item\".format(BASE_URL), json = item_mat)\n",
    "\n",
    "response.json()"
   ]
  },
  {
   "cell_type": "code",
   "execution_count": 7,
   "metadata": {},
   "outputs": [
    {
     "name": "stdout",
     "output_type": "stream",
     "text": [
      "('[{\"mat_id\":20071,\"item_id\":\"1939263077\"}, '\n",
      " '{\"mat_id\":3757,\"item_id\":\"0312367546\"}, '\n",
      " '{\"mat_id\":18220,\"item_id\":\"1558322035\"}, '\n",
      " '{\"mat_id\":15223,\"item_id\":\"1455576646\"}, '\n",
      " '{\"mat_id\":2146,\"item_id\":\"0142180823\"}, '\n",
      " '{\"mat_id\":9467,\"item_id\":\"0671315676\"}, '\n",
      " '{\"mat_id\":5116,\"item_id\":\"0345526481\"}, '\n",
      " '{\"mat_id\":12417,\"item_id\":\"0984247521\"}, '\n",
      " '{\"mat_id\":15219,\"item_id\":\"1455574880\"}, '\n",
      " '{\"mat_id\":9319,\"item_id\":\"0615922376\"}]')\n"
     ]
    }
   ],
   "source": [
    "from pprint import pprint\n",
    "\n",
    "pprint(response.json())"
   ]
  },
  {
   "cell_type": "code",
   "execution_count": 116,
   "metadata": {},
   "outputs": [
    {
     "data": {
      "text/plain": [
       "'[{\"mat_id\":test,\"item_id\":\"test\"}, {\"mat_id\":test2,\"item_id\":\"test2\"}]'"
      ]
     },
     "execution_count": 116,
     "metadata": {},
     "output_type": "execute_result"
    }
   ],
   "source": [
    "test_dict = {}\n",
    "test_dict[0] = '{\"mat_id\":' + 'test\\n' + ',\"item_id\":\"' + 'test\\n' + '\"}'\n",
    "test_dict[1] = '{\"mat_id\":' + 'test2' + ',\"item_id\":\"' + 'test2' + '\"}'\n",
    "\n",
    "test_list = []\n",
    "for key, value in test_dict.items():\n",
    "    test_list.append(value)\n",
    "\n",
    "string_list = str(test_list)\n",
    "string_list.replace(\"'\",\"\").replace('\\\\n','')"
   ]
  },
  {
   "cell_type": "code",
   "execution_count": 113,
   "metadata": {},
   "outputs": [
    {
     "data": {
      "text/plain": [
       "'{\"mat_id\":\"test\"}'"
      ]
     },
     "execution_count": 113,
     "metadata": {},
     "output_type": "execute_result"
    }
   ],
   "source": [
    "test_list2 = []\n",
    "ran = '{\"mat_id\":\"test\"}'\n",
    "test_list2.append(ran)\n",
    "\n",
    "test_list2[0]"
   ]
  },
  {
   "cell_type": "code",
   "execution_count": 22,
   "metadata": {},
   "outputs": [
    {
     "data": {
      "text/plain": [
       "'[{\"mat_id\":8993,\"item_id\":\"0615454283\"}, {\"mat_id\":16525,\"item_id\":\"1480272132\"}, {\"mat_id\":13848,\"item_id\":\"1414334486\"}, {\"mat_id\":14266,\"item_id\":\"1420125141\"}, {\"mat_id\":16155,\"item_id\":\"1477811869\"}, {\"mat_id\":1540,\"item_id\":\"0062223895\"}, {\"mat_id\":5945,\"item_id\":\"0380797488\"}, {\"mat_id\":14497,\"item_id\":\"1434764303\"}, {\"mat_id\":15724,\"item_id\":\"1470027399\"}, {\"mat_id\":200,\"item_id\":\"0060525118\"}]'"
      ]
     },
     "execution_count": 22,
     "metadata": {},
     "output_type": "execute_result"
    }
   ],
   "source": [
    "item_mat_u = [{\"ItemMat\": 20000, \"ItemRating\": 5},\n",
    "              {\"ItemMat\": 20001, \"ItemRating\": 5},\n",
    "              {\"ItemMat\": 20002, \"ItemRating\": 5},\n",
    "              {\"ItemMat\": 20003, \"ItemRating\": 5},\n",
    "              {\"ItemMat\": 20004, \"ItemRating\": 5},\n",
    "              {\"ItemMat\": 20005, \"ItemRating\": 5},\n",
    "              {\"ItemMat\": 20006, \"ItemRating\": 5},\n",
    "              {\"ItemMat\": 20007, \"ItemRating\": 5},\n",
    "              {\"ItemMat\": 20008, \"ItemRating\": 5},\n",
    "              {\"ItemMat\": 20009, \"ItemRating\": 5},\n",
    "              {\"ItemMat\": 20010, \"ItemRating\": 5},\n",
    "              {\"ItemMat\": 20011, \"ItemRating\": 5},\n",
    "              {\"ItemMat\": 20012, \"ItemRating\": 4},\n",
    "              {\"ItemMat\": 20013, \"ItemRating\": 4},\n",
    "              {\"ItemMat\": 20014, \"ItemRating\": 4},\n",
    "              {\"ItemMat\": 20015, \"ItemRating\": 4},\n",
    "              {\"ItemMat\": 20016, \"ItemRating\": 4},\n",
    "              {\"ItemMat\": 20017, \"ItemRating\": 1},\n",
    "              {\"ItemMat\": 20018, \"ItemRating\": 1},\n",
    "              {\"ItemMat\": 20019, \"ItemRating\": 2},\n",
    "              {\"ItemMat\": 20020, \"ItemRating\": 1}]\n",
    "\n",
    "response_u = requests.post(\"{}/predict_user\".format(BASE_URL), json = item_mat_u)\n",
    "\n",
    "response_u.json()"
   ]
  },
  {
   "cell_type": "code",
   "execution_count": 21,
   "metadata": {},
   "outputs": [
    {
     "name": "stdout",
     "output_type": "stream",
     "text": [
      "('[{\"mat_id\":8993,\"item_id\":\"0615454283\"}, '\n",
      " '{\"mat_id\":16525,\"item_id\":\"1480272132\"}, '\n",
      " '{\"mat_id\":13848,\"item_id\":\"1414334486\"}, '\n",
      " '{\"mat_id\":14266,\"item_id\":\"1420125141\"}, '\n",
      " '{\"mat_id\":16155,\"item_id\":\"1477811869\"}, '\n",
      " '{\"mat_id\":1540,\"item_id\":\"0062223895\"}, '\n",
      " '{\"mat_id\":5945,\"item_id\":\"0380797488\"}, '\n",
      " '{\"mat_id\":14497,\"item_id\":\"1434764303\"}, '\n",
      " '{\"mat_id\":15724,\"item_id\":\"1470027399\"}, '\n",
      " '{\"mat_id\":200,\"item_id\":\"0060525118\"}]')\n"
     ]
    }
   ],
   "source": [
    "from pprint import pprint\n",
    "\n",
    "pprint(response_u.json())"
   ]
  },
  {
   "cell_type": "code",
   "execution_count": 2,
   "metadata": {},
   "outputs": [
    {
     "data": {
      "text/plain": [
       "{'data': [{'body': 'Maiores ex dolorum excepturi optio magnam laboriosam consequatur. Ipsum enim praesentium ex consequuntur. Amet expedita fugiat cupiditate voluptatem sit voluptas.',\n",
       "   'created_at': '2018-04-23 14:34:20',\n",
       "   'id': 1,\n",
       "   'title': 'Cum est officiis sint blanditiis repellendus.',\n",
       "   'updated_at': '2018-04-23 14:34:20'},\n",
       "  {'body': 'Libero accusamus reiciendis odio distinctio rerum. Vel sequi nihil hic delectus magni impedit. Cumque reiciendis enim laborum ab. Fugiat nostrum dolores quas.',\n",
       "   'created_at': '2018-04-23 14:34:30',\n",
       "   'id': 2,\n",
       "   'title': 'Reprehenderit consequatur eius fugit a.',\n",
       "   'updated_at': '2018-04-23 14:34:30'},\n",
       "  {'body': 'Magni praesentium amet aspernatur dolor consequatur. Quasi blanditiis necessitatibus excepturi magni eligendi minus id libero. Sed molestias error illo dolor dicta velit.',\n",
       "   'created_at': '2018-04-23 14:34:30',\n",
       "   'id': 3,\n",
       "   'title': 'Rem unde voluptas occaecati excepturi ut magnam.',\n",
       "   'updated_at': '2018-04-23 14:34:30'},\n",
       "  {'body': 'Laboriosam vitae nulla ea. Quis itaque sint quas aut nam. Et voluptatum voluptatem voluptatem. Voluptas odio ipsa ut minima sunt eos sunt.',\n",
       "   'created_at': '2018-04-23 14:34:30',\n",
       "   'id': 4,\n",
       "   'title': 'Quod sed quia repellat est perspiciatis ut.',\n",
       "   'updated_at': '2018-04-23 14:34:30'},\n",
       "  {'body': 'Omnis dolorum placeat quia harum libero ducimus ipsum. Dolores provident qui numquam maiores commodi tenetur.',\n",
       "   'created_at': '2018-04-23 14:34:30',\n",
       "   'id': 5,\n",
       "   'title': 'Voluptate iusto nesciunt ut veritatis quia.',\n",
       "   'updated_at': '2018-04-23 14:34:30'},\n",
       "  {'body': 'Quis consequatur earum voluptatem aut perspiciatis. Autem quidem corrupti eius delectus. Voluptatum quisquam nisi quod ea omnis cum est ratione.',\n",
       "   'created_at': '2018-04-23 14:34:30',\n",
       "   'id': 6,\n",
       "   'title': 'Atque maxime omnis aperiam beatae.',\n",
       "   'updated_at': '2018-04-23 14:34:30'},\n",
       "  {'body': 'Omnis natus nesciunt temporibus nam. Iusto dolorem est debitis architecto. Et animi qui veritatis et maiores incidunt. Nulla dolores id reprehenderit sit eos in.',\n",
       "   'created_at': '2018-04-23 14:34:30',\n",
       "   'id': 7,\n",
       "   'title': 'Non molestiae sint eligendi enim.',\n",
       "   'updated_at': '2018-04-23 14:34:30'},\n",
       "  {'body': 'Non non ea et ut ad rerum doloremque. Ut rerum officiis eos. Praesentium autem sequi veniam temporibus suscipit fugiat sequi. Commodi ipsam eos veniam doloremque sint accusantium accusantium.',\n",
       "   'created_at': '2018-04-23 14:34:30',\n",
       "   'id': 8,\n",
       "   'title': 'Quia repellat aut sit est et at.',\n",
       "   'updated_at': '2018-04-23 14:34:30'},\n",
       "  {'body': 'Quos libero id ut voluptatem voluptate laborum id. Modi non eum aut quisquam molestias. Assumenda ipsum aliquid vel sequi veniam. Officia quaerat modi enim minima aut occaecati ut.',\n",
       "   'created_at': '2018-04-23 14:34:30',\n",
       "   'id': 9,\n",
       "   'title': 'Qui id accusantium ab occaecati.',\n",
       "   'updated_at': '2018-04-23 14:34:30'},\n",
       "  {'body': 'Perspiciatis repellendus quia voluptate ullam expedita. Quos atque sit nihil delectus.',\n",
       "   'created_at': '2018-04-23 14:34:30',\n",
       "   'id': 10,\n",
       "   'title': 'Aut enim et eum laborum.',\n",
       "   'updated_at': '2018-04-23 14:34:30'},\n",
       "  {'body': 'Deserunt et necessitatibus aspernatur quaerat. Velit praesentium inventore corrupti. Non sapiente quasi alias. Blanditiis impedit quia accusamus soluta.',\n",
       "   'created_at': '2018-04-23 14:34:30',\n",
       "   'id': 11,\n",
       "   'title': 'Repellendus ipsam iusto non.',\n",
       "   'updated_at': '2018-04-23 14:34:30'},\n",
       "  {'body': 'Aut eveniet libero omnis corporis officiis dolor reprehenderit. In dolores totam aut. Reiciendis ab aut nihil expedita natus deleniti. Dignissimos commodi voluptas sed vitae consequatur quo.',\n",
       "   'created_at': '2018-04-23 14:34:30',\n",
       "   'id': 12,\n",
       "   'title': 'Cum veniam ea dolores corrupti.',\n",
       "   'updated_at': '2018-04-23 14:34:30'},\n",
       "  {'body': 'Perspiciatis exercitationem aut nemo porro adipisci recusandae. Cupiditate et non quas quidem.',\n",
       "   'created_at': '2018-04-23 14:34:30',\n",
       "   'id': 13,\n",
       "   'title': 'Eos fugiat soluta dicta adipisci qui vero.',\n",
       "   'updated_at': '2018-04-23 14:34:30'},\n",
       "  {'body': 'Officiis at itaque et aut. Voluptas vel facere et.',\n",
       "   'created_at': '2018-04-23 14:34:30',\n",
       "   'id': 14,\n",
       "   'title': 'Qui velit incidunt consequatur facilis eum non.',\n",
       "   'updated_at': '2018-04-23 14:34:30'},\n",
       "  {'body': 'Libero laudantium culpa est non architecto ut. Molestiae non sit delectus id aliquam quibusdam ullam. Ea voluptatem nemo dolorem facere modi non et.',\n",
       "   'created_at': '2018-04-23 14:34:30',\n",
       "   'id': 15,\n",
       "   'title': 'Accusamus perspiciatis dolor et sequi tempore ut.',\n",
       "   'updated_at': '2018-04-23 14:34:30'}],\n",
       " 'links': {'first': 'http://apitest.test/api/articles?page=1',\n",
       "  'last': 'http://apitest.test/api/articles?page=2',\n",
       "  'next': 'http://apitest.test/api/articles?page=2',\n",
       "  'prev': None},\n",
       " 'meta': {'current_page': 1,\n",
       "  'from': 1,\n",
       "  'last_page': 2,\n",
       "  'path': 'http://apitest.test/api/articles',\n",
       "  'per_page': 15,\n",
       "  'to': 15,\n",
       "  'total': 30}}"
      ]
     },
     "execution_count": 2,
     "metadata": {},
     "output_type": "execute_result"
    }
   ],
   "source": [
    "BASE_URL2 = \"http://apitest.test/api\"\n",
    "response2 = requests.get(\"{}/articles\".format(BASE_URL2))\n",
    "\n",
    "response2.json()"
   ]
  },
  {
   "cell_type": "code",
   "execution_count": null,
   "metadata": {},
   "outputs": [],
   "source": []
  }
 ],
 "metadata": {
  "kernelspec": {
   "display_name": "py36",
   "language": "python",
   "name": "py36"
  },
  "language_info": {
   "codemirror_mode": {
    "name": "ipython",
    "version": 3
   },
   "file_extension": ".py",
   "mimetype": "text/x-python",
   "name": "python",
   "nbconvert_exporter": "python",
   "pygments_lexer": "ipython3",
   "version": "3.6.4"
  }
 },
 "nbformat": 4,
 "nbformat_minor": 2
}
