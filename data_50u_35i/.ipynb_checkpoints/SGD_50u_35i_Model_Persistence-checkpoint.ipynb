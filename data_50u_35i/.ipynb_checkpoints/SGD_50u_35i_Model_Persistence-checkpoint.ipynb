{
 "cells": [
  {
   "cell_type": "code",
   "execution_count": 1,
   "metadata": {},
   "outputs": [],
   "source": [
    "import pandas as pd\n",
    "import numpy as np\n",
    "from sklearn.externals import joblib\n",
    "import requests, json\n",
    "\n",
    "np.random.seed(0)"
   ]
  },
  {
   "cell_type": "code",
   "execution_count": 2,
   "metadata": {},
   "outputs": [
    {
     "name": "stdout",
     "output_type": "stream",
     "text": [
      "D:\\Documents\\Tugas\\Anaconda\\Skripsi_Recommender\\data_50u_35i\\data\n"
     ]
    }
   ],
   "source": [
    "cd data/"
   ]
  },
  {
   "cell_type": "code",
   "execution_count": 9,
   "metadata": {},
   "outputs": [],
   "source": [
    "names = ['user_id', 'item_id', 'rating']\n",
    "df = pd.read_csv('reviews_50u_35i_ready.csv', sep=',', names=names)\n",
    "\n",
    "n_users = df.user_id.unique().shape[0]\n",
    "n_items = df.item_id.unique().shape[0]\n",
    "ratings = np.zeros((n_users, n_items))\n",
    "for row in df.itertuples():\n",
    "    ratings[row[1]-1, row[2]-1] = row[3]"
   ]
  },
  {
   "cell_type": "code",
   "execution_count": 4,
   "metadata": {},
   "outputs": [
    {
     "name": "stdout",
     "output_type": "stream",
     "text": [
      "8625 users\n",
      "25877 items\n",
      "Sparsity: 0.41%\n"
     ]
    }
   ],
   "source": [
    "print(str(n_users) + ' users')\n",
    "print(str(n_items) + ' items')\n",
    "sparsity = float(len(ratings.nonzero()[0]))\n",
    "sparsity /= (ratings.shape[0] * ratings.shape[1])\n",
    "sparsity *= 100\n",
    "print('Sparsity: {:4.2f}%'.format(sparsity))"
   ]
  },
  {
   "cell_type": "code",
   "execution_count": 5,
   "metadata": {},
   "outputs": [],
   "source": [
    "from ExplicitMF import ExplicitMF"
   ]
  },
  {
   "cell_type": "code",
   "execution_count": 6,
   "metadata": {},
   "outputs": [],
   "source": [
    "best_sgd_model = ExplicitMF(ratings, n_factors=20, learning='sgd', \\\n",
    "                            item_fact_reg=0.1, user_fact_reg=0.1, \\\n",
    "                            user_bias_reg=0.1, item_bias_reg=0.1)\n",
    "best_sgd_model.train(200, learning_rate=0.001)"
   ]
  },
  {
   "cell_type": "code",
   "execution_count": 7,
   "metadata": {},
   "outputs": [],
   "source": [
    "from IPython.display import HTML\n",
    "\n",
    "def display_top_k_books(similarity, idx_to_book, book_idx, k=10):\n",
    "    book_indices = np.argsort(similarity[book_idx,:])[::-1]\n",
    "    book_idx_list = ''\n",
    "    k_ctr = 0\n",
    "    # Start i at 1 to not grab the input book\n",
    "    i = 0\n",
    "    while k_ctr < 10:\n",
    "        book = idx_to_book[book_indices[i]]\n",
    "        if book != '':\n",
    "            book_idx_list += \"<h4>- %s<h4/>\"\\\n",
    "                      % book\n",
    "            k_ctr += 1\n",
    "        i += 1\n",
    "    display(HTML(book_idx_list))\n",
    "\n",
    "def compare_recs(sgd_similarity,\\\n",
    "                 idx_to_book, book_idx, k=10):\n",
    "\n",
    "    # Display SGD Recs\n",
    "    display(HTML('<font size=5>'+'SGD Recs'+'</font>'))\n",
    "    display_top_k_books(sgd_similarity,\\\n",
    "                          idx_to_book, book_idx)"
   ]
  },
  {
   "cell_type": "code",
   "execution_count": 8,
   "metadata": {},
   "outputs": [],
   "source": [
    "sgd_sim = best_sgd_model.cosine_similarity()"
   ]
  },
  {
   "cell_type": "code",
   "execution_count": 11,
   "metadata": {},
   "outputs": [],
   "source": [
    "import io\n",
    "# Load in book data\n",
    "idx_to_book = {}\n",
    "\n",
    "with io.open('reviews_50u_35i_info_items.csv', mode='r', encoding='utf-8-sig') as f:\n",
    "    for line in f.readlines():\n",
    "        info = line.split(',')        \n",
    "        if len(info[1]) <= 10:\n",
    "            for asin_char in range(len(info[1]), 11):\n",
    "                info[1] = '0' + info[1]\n",
    "        \n",
    "        idx_to_book[int(info[0])-1] = info[0] + ' : ' + info[1]    "
   ]
  },
  {
   "cell_type": "code",
   "execution_count": 12,
   "metadata": {},
   "outputs": [
    {
     "data": {
      "text/html": [
       "<font size=5>SGD Recs</font>"
      ],
      "text/plain": [
       "<IPython.core.display.HTML object>"
      ]
     },
     "metadata": {},
     "output_type": "display_data"
    },
    {
     "data": {
      "text/html": [
       "<h4>- 20001 : 1938426495\n",
       "<h4/><h4>- 2046 : 0141049553\n",
       "<h4/><h4>- 17739 : 1493560336\n",
       "<h4/><h4>- 1360 : 0062084232\n",
       "<h4/><h4>- 13921 : 1414371713\n",
       "<h4/><h4>- 22678 : B0061HGSZW\n",
       "<h4/><h4>- 20491 : 015206396X\n",
       "<h4/><h4>- 17883 : 1494480581\n",
       "<h4/><h4>- 427 : 0060872985\n",
       "<h4/><h4>- 2796 : 0307272583\n",
       "<h4/>"
      ],
      "text/plain": [
       "<IPython.core.display.HTML object>"
      ]
     },
     "metadata": {},
     "output_type": "display_data"
    }
   ],
   "source": [
    "idx = 20000\n",
    "compare_recs(sgd_sim, idx_to_book, idx)"
   ]
  },
  {
   "cell_type": "code",
   "execution_count": 3,
   "metadata": {},
   "outputs": [],
   "source": [
    "import pickle"
   ]
  },
  {
   "cell_type": "code",
   "execution_count": 7,
   "metadata": {},
   "outputs": [],
   "source": [
    "with open(\"python_best_sgd_model.pkl\", \"wb\") as file_handler: \n",
    "    pickle.dump(best_sgd_model, file_handler, protocol=pickle.HIGHEST_PROTOCOL)"
   ]
  },
  {
   "cell_type": "code",
   "execution_count": 4,
   "metadata": {},
   "outputs": [
    {
     "data": {
      "text/plain": [
       "<ExplicitMF.ExplicitMF at 0x2510deec080>"
      ]
     },
     "execution_count": 4,
     "metadata": {},
     "output_type": "execute_result"
    }
   ],
   "source": [
    "with open(\"python_best_sgd_model.pkl\", \"rb\") as file_handler:\n",
    "    loaded_pickle = pickle.load(file_handler)\n",
    "    \n",
    "loaded_pickle"
   ]
  },
  {
   "cell_type": "code",
   "execution_count": 18,
   "metadata": {},
   "outputs": [],
   "source": [
    "users = ratings.shape[0]\n",
    "books = ratings.shape[1]\n",
    "books_mean = np.zeros((1, books))\n",
    "books_norm = np.zeros((users, books))\n",
    "\n",
    "R = np.zeros((users,books))\n",
    "for us in range(users):\n",
    "    for mo in range(books):\n",
    "        if ratings[us,mo] >= 1.0:\n",
    "            R[us,mo] = 1\n",
    "        else:\n",
    "            R[us,mo] = 0\n",
    "\n",
    "for i in range(books):\n",
    "    idx = np.where(R[:,i] == 1)[0]\n",
    "    books_mean[0][i] = ratings[idx,i].mean()\n",
    "    books_norm[idx,i] = ratings[idx,i] - books_mean[0][i]"
   ]
  },
  {
   "cell_type": "code",
   "execution_count": 21,
   "metadata": {},
   "outputs": [],
   "source": [
    "best_sgd_model2 = ExplicitMF(books_norm, n_factors=20, learning='sgd', \\\n",
    "                            item_fact_reg=0.1, user_fact_reg=0.1, \\\n",
    "                            user_bias_reg=0.1, item_bias_reg=0.1)\n",
    "best_sgd_model2.train(200, learning_rate=0.001)"
   ]
  },
  {
   "cell_type": "code",
   "execution_count": 22,
   "metadata": {},
   "outputs": [],
   "source": [
    "with open(\"python_best_sgd_model2.pkl\", \"wb\") as file_handler2:\n",
    "    pickle.dump(best_sgd_model2, file_handler2, protocol=pickle.HIGHEST_PROTOCOL)"
   ]
  },
  {
   "cell_type": "code",
   "execution_count": 5,
   "metadata": {},
   "outputs": [
    {
     "data": {
      "text/plain": [
       "<ExplicitMF.ExplicitMF at 0x25178aa2550>"
      ]
     },
     "execution_count": 5,
     "metadata": {},
     "output_type": "execute_result"
    }
   ],
   "source": [
    "with open(\"python_best_sgd_model2.pkl\", \"rb\") as file_handler2:\n",
    "    loaded_pickle2 = pickle.load(file_handler2)\n",
    "    \n",
    "loaded_pickle2"
   ]
  },
  {
   "cell_type": "code",
   "execution_count": 19,
   "metadata": {},
   "outputs": [],
   "source": [
    "my_ratings = np.zeros((loaded_pickle2.item_vecs.shape[0], 1))\n",
    "\n",
    "#1st set:\n",
    "# my_ratings[0] = 5\n",
    "# my_ratings[1] = 5\n",
    "# my_ratings[2] = 5\n",
    "# my_ratings[3] = 5\n",
    "# my_ratings[4] = 5\n",
    "# my_ratings[5] = 5\n",
    "# my_ratings[6] = 5\n",
    "# my_ratings[7] = 5\n",
    "# my_ratings[8] = 5\n",
    "# my_ratings[9] = 5\n",
    "# my_ratings[10] = 5\n",
    "# my_ratings[11] = 5\n",
    "# my_ratings[12] = 4\n",
    "# my_ratings[13] = 4\n",
    "# my_ratings[14] = 4\n",
    "# my_ratings[15] = 4\n",
    "# my_ratings[16] = 4\n",
    "# my_ratings[17] = 1\n",
    "# my_ratings[18] = 1\n",
    "# my_ratings[19] = 2\n",
    "# my_ratings[20] = 1\n",
    "\n",
    "\n",
    "#2nd set:\n",
    "my_ratings[20000] = 5\n",
    "my_ratings[20001] = 5\n",
    "my_ratings[20002] = 5\n",
    "my_ratings[20003] = 5\n",
    "my_ratings[20004] = 5\n",
    "my_ratings[20005] = 5\n",
    "my_ratings[20006] = 5\n",
    "my_ratings[20007] = 5\n",
    "my_ratings[20008] = 5\n",
    "my_ratings[20009] = 5\n",
    "my_ratings[20010] = 5\n",
    "my_ratings[20011] = 5\n",
    "my_ratings[20012] = 4\n",
    "my_ratings[20013] = 4\n",
    "my_ratings[20014] = 4\n",
    "my_ratings[20015] = 4\n",
    "my_ratings[20016] = 4\n",
    "my_ratings[20017] = 1\n",
    "my_ratings[20018] = 1\n",
    "my_ratings[20019] = 2\n",
    "my_ratings[20020] = 1"
   ]
  },
  {
   "cell_type": "code",
   "execution_count": 20,
   "metadata": {},
   "outputs": [
    {
     "data": {
      "text/plain": [
       "array([[ 0.04369544,  0.24075334,  0.24938365, ...,  0.29949133,\n",
       "        -0.11070246, -0.06141413]])"
      ]
     },
     "execution_count": 20,
     "metadata": {},
     "output_type": "execute_result"
    }
   ],
   "source": [
    "new_user_rec = my_ratings.T.dot(loaded_pickle2.item_vecs)\\\n",
    "                    .dot(loaded_pickle2.item_vecs.T)\n",
    "    \n",
    "new_user_rec"
   ]
  },
  {
   "cell_type": "code",
   "execution_count": 21,
   "metadata": {},
   "outputs": [
    {
     "data": {
      "text/plain": [
       "array([1.92374481, 1.2438154 , 1.22794331, 1.17376114, 1.17282201,\n",
       "       1.15492362, 1.06399588, 1.00719291, 0.97520898, 0.95572669,\n",
       "       0.93732068, 0.93600036, 0.92658544, 0.91467604, 0.90574973,\n",
       "       0.89277848, 0.88935366, 0.87062571, 0.86831889, 0.86595545,\n",
       "       0.86010037, 0.85162098, 0.84672255, 0.84598773, 0.84577647,\n",
       "       0.84554183, 0.84222805, 0.83312344, 0.82749526, 0.82089329])"
      ]
     },
     "execution_count": 21,
     "metadata": {},
     "output_type": "execute_result"
    }
   ],
   "source": [
    "sorted_preds = np.sort(new_user_rec[0,:], axis=0)[::-1]\n",
    "sorted_preds[:30]"
   ]
  },
  {
   "cell_type": "code",
   "execution_count": 22,
   "metadata": {},
   "outputs": [],
   "source": [
    "import io\n",
    "# Load in book data\n",
    "idx_to_book = {}\n",
    "\n",
    "with io.open('reviews_50u_35i_info_items.csv', mode='r', encoding='utf-8-sig') as f:\n",
    "    for line in f.readlines():\n",
    "        info = line.split(',')        \n",
    "        if len(info[1]) <= 10:\n",
    "            for asin_char in range(len(info[1]), 11):\n",
    "                info[1] = '0' + info[1]\n",
    "        \n",
    "        idx_to_book[int(info[0])-1] = info[0] + ' : ' + info[1]    "
   ]
  },
  {
   "cell_type": "code",
   "execution_count": 23,
   "metadata": {},
   "outputs": [],
   "source": [
    "from IPython.display import HTML"
   ]
  },
  {
   "cell_type": "code",
   "execution_count": 24,
   "metadata": {},
   "outputs": [
    {
     "name": "stdout",
     "output_type": "stream",
     "text": [
      "Top 10 book recommendation\n"
     ]
    },
    {
     "data": {
      "text/html": [
       "<h4>- 8993 : 0615454283\n",
       "<h4/><h4>- 16525 : 1480272132\n",
       "<h4/><h4>- 13848 : 1414334486\n",
       "<h4/><h4>- 14266 : 1420125141\n",
       "<h4/><h4>- 16155 : 1477811869\n",
       "<h4/><h4>- 1540 : 0062223895\n",
       "<h4/><h4>- 5945 : 0380797488\n",
       "<h4/><h4>- 14497 : 1434764303\n",
       "<h4/><h4>- 15724 : 1470027399\n",
       "<h4/><h4>- 200 : 0060525118\n",
       "<h4/>"
      ],
      "text/plain": [
       "<IPython.core.display.HTML object>"
      ]
     },
     "metadata": {},
     "output_type": "display_data"
    }
   ],
   "source": [
    "def display_only(new_user_rec, idx_to_book):\n",
    "    my_idx = np.argsort(new_user_rec[0,:], axis=0)[::-1]\n",
    "    book_idx_list = ''\n",
    "    k_ctr = 0\n",
    "    # Start i at 1 to not grab the input book\n",
    "    i = 0\n",
    "    while k_ctr < 10:\n",
    "        book = idx_to_book[my_idx[i]]\n",
    "        if book != '':\n",
    "            book_idx_list += \"<h4>- %s<h4/>\"\\\n",
    "                      % book\n",
    "            k_ctr += 1\n",
    "        i += 1\n",
    "    display(HTML(book_idx_list))\n",
    "\n",
    "print(\"Top 10 book recommendation\")\n",
    "display_only(new_user_rec, idx_to_book)"
   ]
  },
  {
   "cell_type": "code",
   "execution_count": null,
   "metadata": {},
   "outputs": [],
   "source": []
  }
 ],
 "metadata": {
  "kernelspec": {
   "display_name": "py36",
   "language": "python",
   "name": "py36"
  },
  "language_info": {
   "codemirror_mode": {
    "name": "ipython",
    "version": 3
   },
   "file_extension": ".py",
   "mimetype": "text/x-python",
   "name": "python",
   "nbconvert_exporter": "python",
   "pygments_lexer": "ipython3",
   "version": "3.6.4"
  }
 },
 "nbformat": 4,
 "nbformat_minor": 2
}
