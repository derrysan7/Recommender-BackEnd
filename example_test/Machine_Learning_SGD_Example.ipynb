{
 "cells": [
  {
   "cell_type": "code",
   "execution_count": 1,
   "metadata": {},
   "outputs": [],
   "source": [
    "import numpy as np\n",
    "import pandas as pd\n",
    "np.random.seed(1)"
   ]
  },
  {
   "cell_type": "code",
   "execution_count": 2,
   "metadata": {},
   "outputs": [
    {
     "name": "stdout",
     "output_type": "stream",
     "text": [
      "D:\\Documents\\Tugas\\Anaconda\\Skripsi_Recommender\\example_test\\data\n"
     ]
    }
   ],
   "source": [
    "cd data/"
   ]
  },
  {
   "cell_type": "code",
   "execution_count": 3,
   "metadata": {},
   "outputs": [
    {
     "data": {
      "text/html": [
       "<div>\n",
       "<style scoped>\n",
       "    .dataframe tbody tr th:only-of-type {\n",
       "        vertical-align: middle;\n",
       "    }\n",
       "\n",
       "    .dataframe tbody tr th {\n",
       "        vertical-align: top;\n",
       "    }\n",
       "\n",
       "    .dataframe thead th {\n",
       "        text-align: right;\n",
       "    }\n",
       "</style>\n",
       "<table border=\"1\" class=\"dataframe\">\n",
       "  <thead>\n",
       "    <tr style=\"text-align: right;\">\n",
       "      <th></th>\n",
       "      <th>user_id</th>\n",
       "      <th>item_id</th>\n",
       "      <th>rating</th>\n",
       "    </tr>\n",
       "  </thead>\n",
       "  <tbody>\n",
       "    <tr>\n",
       "      <th>0</th>\n",
       "      <td>1</td>\n",
       "      <td>1</td>\n",
       "      <td>5</td>\n",
       "    </tr>\n",
       "    <tr>\n",
       "      <th>1</th>\n",
       "      <td>1</td>\n",
       "      <td>2</td>\n",
       "      <td>5</td>\n",
       "    </tr>\n",
       "    <tr>\n",
       "      <th>2</th>\n",
       "      <td>1</td>\n",
       "      <td>4</td>\n",
       "      <td>1</td>\n",
       "    </tr>\n",
       "    <tr>\n",
       "      <th>3</th>\n",
       "      <td>1</td>\n",
       "      <td>5</td>\n",
       "      <td>1</td>\n",
       "    </tr>\n",
       "    <tr>\n",
       "      <th>4</th>\n",
       "      <td>2</td>\n",
       "      <td>1</td>\n",
       "      <td>5</td>\n",
       "    </tr>\n",
       "  </tbody>\n",
       "</table>\n",
       "</div>"
      ],
      "text/plain": [
       "   user_id  item_id  rating\n",
       "0        1        1       5\n",
       "1        1        2       5\n",
       "2        1        4       1\n",
       "3        1        5       1\n",
       "4        2        1       5"
      ]
     },
     "execution_count": 3,
     "metadata": {},
     "output_type": "execute_result"
    }
   ],
   "source": [
    "names = ['user_id', 'item_id', 'rating']\n",
    "df = pd.read_csv('reviews_50u_35i_ready.csv', sep=',', names=names)\n",
    "df.head()"
   ]
  },
  {
   "cell_type": "code",
   "execution_count": 4,
   "metadata": {},
   "outputs": [
    {
     "data": {
      "text/plain": [
       "array([[5., 5., 0., 1., 1.],\n",
       "       [5., 0., 4., 1., 1.],\n",
       "       [1., 0., 1., 5., 5.],\n",
       "       [1., 1., 0., 4., 0.]])"
      ]
     },
     "execution_count": 4,
     "metadata": {},
     "output_type": "execute_result"
    }
   ],
   "source": [
    "n_users = df.user_id.unique().shape[0]\n",
    "n_items = df.item_id.unique().shape[0]\n",
    "ratings = np.zeros((n_users, n_items))\n",
    "for row in df.itertuples():\n",
    "    ratings[row[1]-1, row[2]-1] = row[3]\n",
    "ratings"
   ]
  },
  {
   "cell_type": "code",
   "execution_count": 5,
   "metadata": {},
   "outputs": [
    {
     "name": "stdout",
     "output_type": "stream",
     "text": [
      "4 users\n",
      "5 items\n",
      "Sparsity: 75.00%\n"
     ]
    }
   ],
   "source": [
    "print str(n_users) + ' users'\n",
    "print str(n_items) + ' items'\n",
    "sparsity = float(len(ratings.nonzero()[0]))\n",
    "sparsity /= (ratings.shape[0] * ratings.shape[1])\n",
    "sparsity *= 100\n",
    "print 'Sparsity: {:4.2f}%'.format(sparsity)"
   ]
  },
  {
   "cell_type": "code",
   "execution_count": 6,
   "metadata": {},
   "outputs": [],
   "source": [
    "def train_test_split(ratings):\n",
    "    test = np.zeros(ratings.shape)\n",
    "    train = ratings.copy()\n",
    "    for user in xrange(ratings.shape[0]):\n",
    "        test_ratings = np.random.choice(ratings[user, :].nonzero()[0],\n",
    "                                       size=1,replace=False)\n",
    "        train[user, test_ratings] = 0.\n",
    "        test[user, test_ratings] = ratings[user, test_ratings]\n",
    "        \n",
    "    assert(np.all((train * test) == 0))\n",
    "    return train, test"
   ]
  },
  {
   "cell_type": "code",
   "execution_count": 7,
   "metadata": {},
   "outputs": [],
   "source": [
    "train, test = train_test_split(ratings)"
   ]
  },
  {
   "cell_type": "code",
   "execution_count": 3,
   "metadata": {},
   "outputs": [],
   "source": [
    "from ExplicitMF import ExplicitMF"
   ]
  },
  {
   "cell_type": "code",
   "execution_count": 9,
   "metadata": {},
   "outputs": [
    {
     "name": "stdout",
     "output_type": "stream",
     "text": [
      "Iteration: 1\n",
      "Train mse: 3.618609410275344\n",
      "Test mse: 3.516394865881794\n",
      "Iteration: 2\n",
      "Train mse: 3.602336299290941\n",
      "Test mse: 3.5215405652540483\n",
      "Iteration: 5\n",
      "Train mse: 3.554439000720514\n",
      "Test mse: 3.536732966677904\n",
      "Iteration: 10\n",
      "Train mse: 3.4773890364449653\n",
      "Test mse: 3.561115190647887\n",
      "Iteration: 25\n",
      "\tcurrent iteration: 10\n",
      "Train mse: 3.2641894661801203\n",
      "Test mse: 3.627713990349136\n",
      "Iteration: 50\n",
      "\tcurrent iteration: 10\n",
      "\tcurrent iteration: 20\n",
      "Train mse: 2.9535971981571207\n",
      "Test mse: 3.7160430979320704\n",
      "Iteration: 100\n",
      "\tcurrent iteration: 10\n",
      "\tcurrent iteration: 20\n",
      "\tcurrent iteration: 30\n",
      "\tcurrent iteration: 40\n",
      "\tcurrent iteration: 50\n",
      "Train mse: 2.4265893614254725\n",
      "Test mse: 3.804277984564445\n",
      "Iteration: 200\n",
      "\tcurrent iteration: 10\n",
      "\tcurrent iteration: 20\n",
      "\tcurrent iteration: 30\n",
      "\tcurrent iteration: 40\n",
      "\tcurrent iteration: 50\n",
      "\tcurrent iteration: 60\n",
      "\tcurrent iteration: 70\n",
      "\tcurrent iteration: 80\n",
      "\tcurrent iteration: 90\n",
      "\tcurrent iteration: 100\n",
      "Train mse: 1.506487956552607\n",
      "Test mse: 3.650649002954692\n"
     ]
    }
   ],
   "source": [
    "MF_SGD = ExplicitMF(train, 2, learning='sgd', verbose=True)\n",
    "iter_array = [1, 2, 5, 10, 25, 50, 100, 200]\n",
    "MF_SGD.calculate_learning_curve(iter_array, test, learning_rate=0.001)"
   ]
  },
  {
   "cell_type": "code",
   "execution_count": 10,
   "metadata": {},
   "outputs": [],
   "source": [
    "import matplotlib.pyplot as plt\n",
    "import seaborn as sns\n",
    "sns.set()\n",
    "\n",
    "def plot_learning_curve(iter_array, model):\n",
    "    plt.plot(iter_array, model.train_mse, label='Training', linewidth=5)\n",
    "    plt.plot(iter_array, model.test_mse, label='Test', linewidth=5)\n",
    "    \n",
    "    plt.xticks(fontsize=16);\n",
    "    plt.yticks(fontsize=16);\n",
    "    plt.xlabel('iterations', fontsize=30);\n",
    "    plt.ylabel('MSE', fontsize=30);\n",
    "    plt.legend(loc='best', fontsize=20);"
   ]
  },
  {
   "cell_type": "code",
   "execution_count": 11,
   "metadata": {},
   "outputs": [
    {
     "data": {
      "image/png": "[encoded data removed]",
      "text/plain": [
       "<matplotlib.figure.Figure at 0xa807278>"
      ]
     },
     "metadata": {},
     "output_type": "display_data"
    }
   ],
   "source": [
    "plot_learning_curve(iter_array, MF_SGD)"
   ]
  },
  {
   "cell_type": "code",
   "execution_count": 12,
   "metadata": {},
   "outputs": [
    {
     "name": "stdout",
     "output_type": "stream",
     "text": [
      "Rate: 1e-05\n",
      "New optimal hyperparameters\n",
      "learning_rate                                                1e-05\n",
      "model            <ExplicitMF.ExplicitMF instance at 0x000000000...\n",
      "n_iter                                                           1\n",
      "test_mse                                                   4.31551\n",
      "train_mse                                                  3.17613\n",
      "dtype: object\n",
      "Rate: 0.0001\n",
      "Rate: 0.001\n",
      "Rate: 0.01\n",
      "New optimal hyperparameters\n",
      "learning_rate                                                 0.01\n",
      "model            <ExplicitMF.ExplicitMF instance at 0x000000000...\n",
      "n_iter                                                           1\n",
      "test_mse                                                   3.74807\n",
      "train_mse                                                  3.82204\n",
      "dtype: object\n"
     ]
    }
   ],
   "source": [
    "iter_array = [1, 2, 5, 10, 25, 50, 100, 200]\n",
    "learning_rates = [1e-5, 1e-4, 1e-3, 1e-2]\n",
    "\n",
    "best_params = {}\n",
    "best_params['learning_rate'] = None\n",
    "best_params['n_iter'] = 0\n",
    "best_params['train_mse'] = np.inf\n",
    "best_params['test_mse'] = np.inf\n",
    "best_params['model'] = None\n",
    "\n",
    "for rate in learning_rates:\n",
    "    print 'Rate: {}'.format(rate)\n",
    "    MF_SGD = ExplicitMF(train, n_factors=2, learning='sgd')\n",
    "    MF_SGD.calculate_learning_curve(iter_array, test, learning_rate=rate)\n",
    "    min_idx = np.argmin(MF_SGD.test_mse)\n",
    "    if MF_SGD.test_mse[min_idx] < best_params['test_mse']:        \n",
    "        best_params['n_iter'] = iter_array[min_idx]\n",
    "        best_params['learning_rate'] = rate\n",
    "        best_params['train_mse'] = MF_SGD.train_mse[min_idx]\n",
    "        best_params['test_mse'] = MF_SGD.test_mse[min_idx]\n",
    "        best_params['model'] = MF_SGD\n",
    "        print 'New optimal hyperparameters'\n",
    "        print pd.Series(best_params)"
   ]
  },
  {
   "cell_type": "code",
   "execution_count": 13,
   "metadata": {},
   "outputs": [
    {
     "name": "stdout",
     "output_type": "stream",
     "text": [
      "Factors: 2\n",
      "Regularizations: 0.001\n",
      "New optimal hyperparameters\n",
      "model        <ExplicitMF.ExplicitMF instance at 0x000000000...\n",
      "n_factors                                                    2\n",
      "n_iter                                                     200\n",
      "reg                                                      0.001\n",
      "test_mse                                               1.71754\n",
      "train_mse                                              1.06471\n",
      "dtype: object\n",
      "Regularizations: 0.01\n",
      "Regularizations: 0.1\n",
      "Regularizations: 1.0\n"
     ]
    }
   ],
   "source": [
    "iter_array = [1, 2, 5, 10, 25, 50, 100, 200]\n",
    "latent_factors = [2]\n",
    "regularizations = [0.001, 0.01, 0.1, 1.]\n",
    "regularizations.sort()\n",
    "\n",
    "best_params = {}\n",
    "best_params['n_factors'] = latent_factors[0]\n",
    "best_params['reg'] = regularizations[0]\n",
    "best_params['n_iter'] = 0\n",
    "best_params['train_mse'] = np.inf\n",
    "best_params['test_mse'] = np.inf\n",
    "best_params['model'] = None\n",
    "\n",
    "for fact in latent_factors:\n",
    "    print 'Factors: {}'.format(fact)\n",
    "    for reg in regularizations:\n",
    "        print 'Regularizations: {}'.format(reg)\n",
    "        MF_SGD = ExplicitMF(train, n_factors=fact, learning='sgd',\\\n",
    "                           user_fact_reg=reg, item_fact_reg=reg,\\\n",
    "                           user_bias_reg=reg, item_bias_reg=reg)\n",
    "        MF_SGD.calculate_learning_curve(iter_array, test,\\\n",
    "                                        learning_rate=0.001)\n",
    "        min_idx = np.argmin(MF_SGD.test_mse)\n",
    "        if MF_SGD.test_mse[min_idx] < best_params['test_mse']:\n",
    "            best_params['n_factors'] = fact\n",
    "            best_params['reg'] = reg\n",
    "            best_params['n_iter'] = iter_array[min_idx]\n",
    "            best_params['train_mse'] = MF_SGD.train_mse[min_idx]\n",
    "            best_params['test_mse'] = MF_SGD.test_mse[min_idx]\n",
    "            best_params['model'] = MF_SGD\n",
    "            print 'New optimal hyperparameters'\n",
    "            print pd.Series(best_params)"
   ]
  },
  {
   "cell_type": "code",
   "execution_count": 14,
   "metadata": {},
   "outputs": [
    {
     "data": {
      "image/png": "[encoded data removed]",
      "text/plain": [
       "<matplotlib.figure.Figure at 0xc09d978>"
      ]
     },
     "metadata": {},
     "output_type": "display_data"
    }
   ],
   "source": [
    "plot_learning_curve(iter_array, best_params['model'])"
   ]
  },
  {
   "cell_type": "code",
   "execution_count": 15,
   "metadata": {},
   "outputs": [
    {
     "name": "stdout",
     "output_type": "stream",
     "text": [
      "Best regularization: 0.001\n",
      "Best latent factors: 2\n",
      "Best iterations: 200\n"
     ]
    }
   ],
   "source": [
    "print 'Best regularization: {}'.format(best_params['reg'])\n",
    "print 'Best latent factors: {}'.format(best_params['n_factors'])\n",
    "print 'Best iterations: {}'.format(best_params['n_iter'])"
   ]
  },
  {
   "cell_type": "code",
   "execution_count": 19,
   "metadata": {},
   "outputs": [],
   "source": [
    "best_sgd_model = ExplicitMF(ratings, n_factors=2, learning='sgd', \\\n",
    "                            item_fact_reg=0.001, user_fact_reg=0.001, \\\n",
    "                            user_bias_reg=0.001, item_bias_reg=0.001)\n",
    "best_sgd_model.train(200, learning_rate=0.01)"
   ]
  },
  {
   "cell_type": "code",
   "execution_count": 20,
   "metadata": {},
   "outputs": [
    {
     "data": {
      "text/plain": [
       "array([[ 0.90998808, -1.00154913],\n",
       "       [ 0.85788531, -0.89118291],\n",
       "       [ 0.3216885 , -1.11450449],\n",
       "       [-0.81248112,  1.22473547],\n",
       "       [-1.12746689,  0.89871308]])"
      ]
     },
     "execution_count": 20,
     "metadata": {},
     "output_type": "execute_result"
    }
   ],
   "source": [
    "best_sgd_model.item_vecs"
   ]
  },
  {
   "cell_type": "code",
   "execution_count": 21,
   "metadata": {},
   "outputs": [
    {
     "data": {
      "text/plain": [
       "array([[ 1.47868693, -0.42541134],\n",
       "       [ 1.16749823, -0.64959742],\n",
       "       [-0.58802807,  1.56414819],\n",
       "       [-0.10761304,  1.52321668]])"
      ]
     },
     "execution_count": 21,
     "metadata": {},
     "output_type": "execute_result"
    }
   ],
   "source": [
    "best_sgd_model.user_vecs"
   ]
  },
  {
   "cell_type": "code",
   "execution_count": 17,
   "metadata": {},
   "outputs": [],
   "source": [
    "item_vecs = np.matrix([[ 0.90998808, -1.00154913],\n",
    "       [ 0.85788531, -0.89118291],\n",
    "       [ 0.3216885 , -1.11450449],\n",
    "       [-0.81248112,  1.22473547],\n",
    "       [-1.12746689,  0.89871308]])\n",
    "\n",
    "user_vecs = np.matrix([[ 1.47868693, -0.42541134],\n",
    "       [ 1.16749823, -0.64959742],\n",
    "       [-0.58802807,  1.56414819],\n",
    "       [-0.10761304,  1.52321668]])"
   ]
  },
  {
   "cell_type": "code",
   "execution_count": 22,
   "metadata": {},
   "outputs": [
    {
     "name": "stdout",
     "output_type": "stream",
     "text": [
      "[[ 1.77165784  1.64766311  0.94979943 -1.72242157 -2.04949329]]\n"
     ]
    }
   ],
   "source": [
    "user_pref1 = user_vecs[0, :].dot(item_vecs.T)\n",
    "print(user_pref)"
   ]
  },
  {
   "cell_type": "code",
   "execution_count": 23,
   "metadata": {},
   "outputs": [
    {
     "name": "stdout",
     "output_type": "stream",
     "text": [
      "[[ 1.7130132   1.5804897   1.09955    -1.74415527 -1.9001173 ]]\n"
     ]
    }
   ],
   "source": [
    "user_pref2 = user_vecs[1, :].dot(item_vecs.T)\n",
    "print(user_pref2)"
   ]
  },
  {
   "cell_type": "code",
   "execution_count": 24,
   "metadata": {},
   "outputs": [
    {
     "name": "stdout",
     "output_type": "stream",
     "text": [
      "[[-2.10166979 -1.89840278 -1.93241205  2.39342947  2.06870262]]\n"
     ]
    }
   ],
   "source": [
    "user_pref3 = user_vecs[2, :].dot(item_vecs.T)\n",
    "print(user_pref3)"
   ]
  },
  {
   "cell_type": "code",
   "execution_count": 25,
   "metadata": {},
   "outputs": [
    {
     "name": "stdout",
     "output_type": "stream",
     "text": [
      "[[-1.62350292 -1.44978432 -1.73224971  1.95297106  1.49026489]]\n"
     ]
    }
   ],
   "source": [
    "user_pref4 = user_vecs[3, :].dot(item_vecs.T)\n",
    "print(user_pref4)"
   ]
  },
  {
   "cell_type": "code",
   "execution_count": null,
   "metadata": {},
   "outputs": [],
   "source": []
  },
  {
   "cell_type": "code",
   "execution_count": 10,
   "metadata": {},
   "outputs": [],
   "source": [
    "best_sgd_model = ExplicitMF(ratings, n_factors=2, learning='sgd', \\\n",
    "                            item_fact_reg=0, user_fact_reg=0, \\\n",
    "                            user_bias_reg=0, item_bias_reg=0)\n",
    "best_sgd_model.train(1, learning_rate=0.01)"
   ]
  },
  {
   "cell_type": "code",
   "execution_count": 31,
   "metadata": {},
   "outputs": [
    {
     "name": "stdout",
     "output_type": "stream",
     "text": [
      "[[ 0.22100714 -0.07477301]\n",
      " [ 0.48409094 -0.34540953]\n",
      " [-0.85674668  1.03331293]\n",
      " [-0.6672236   0.33917952]]\n",
      "[[ 0.52467147  0.36995107]\n",
      " [-0.22816701 -1.10413429]\n",
      " [ 0.39209189  0.12720585]\n",
      " [ 0.1457897  -0.08053978]\n",
      " [-0.03499257  0.01540185]]\n",
      "iter : 1\n",
      "[ 0.23535429 -0.11071147]\n",
      "[0.5446027  0.36392483]\n",
      " \n",
      "iter : 2\n",
      "[ 0.25061299 -0.14653538]\n",
      "[0.56730788 0.3574723 ]\n",
      " \n",
      "iter : 3\n",
      "[ 0.26668847 -0.18092579]\n",
      "[0.59124227 0.35131403]\n",
      " \n",
      "iter : 4\n",
      "[ 0.28398401 -0.2158406 ]\n",
      "[0.61808777 0.34771242]\n",
      " \n",
      "iter : 5\n",
      "[ 0.3009224  -0.24824287]\n",
      "[0.64735186 0.3439067 ]\n",
      " \n",
      "iter : 6\n",
      "[ 0.31769068 -0.27869434]\n",
      "[0.67956882 0.33714157]\n",
      " \n",
      "iter : 7\n",
      "[ 0.33585677 -0.30934669]\n",
      "[0.71336348 0.33449507]\n",
      " \n",
      "iter : 8\n",
      "[ 0.35420215 -0.3379011 ]\n",
      "[0.74940184 0.33245443]\n",
      " \n",
      "iter : 9\n",
      "[ 0.37372867 -0.36404521]\n",
      "[0.78653654 0.32861063]\n",
      " \n",
      "iter : 10\n",
      "[ 0.39459223 -0.39084994]\n",
      "[0.82585325 0.32925516]\n",
      " \n",
      "iter : 11\n",
      "[ 0.417485  -0.4156317]\n",
      "[0.86615647 0.33116411]\n",
      " \n",
      "iter : 12\n",
      "[ 0.44130595 -0.43657578]\n",
      "[0.90841829 0.33195967]\n",
      " \n",
      "iter : 13\n",
      "[ 0.46621159 -0.45785617]\n",
      "[0.95296297 0.33424967]\n",
      " \n",
      "iter : 14\n",
      "[ 0.49100218 -0.47586592]\n",
      "[0.99668934 0.34303848]\n",
      " \n",
      "iter : 15\n",
      "[ 0.51799784 -0.49179368]\n",
      "[1.04276933 0.35251832]\n",
      " \n",
      "iter : 16\n",
      "[ 0.54704821 -0.50527302]\n",
      "[1.0891245  0.36306879]\n",
      " \n",
      "iter : 17\n",
      "[ 0.57729556 -0.51615778]\n",
      "[1.13710245 0.37964704]\n",
      " \n",
      "iter : 18\n",
      "[ 0.60817986 -0.52572585]\n",
      "[1.18618132 0.39817919]\n",
      " \n",
      "iter : 19\n",
      "[ 0.64068025 -0.53088638]\n",
      "[1.23561142 0.41722213]\n",
      " \n",
      "iter : 20\n",
      "[ 0.67617261 -0.53452681]\n",
      "[1.28682979 0.43935986]\n",
      " \n",
      "iter : 21\n",
      "[ 0.71299235 -0.53347333]\n",
      "[1.33779446 0.46171575]\n",
      " \n",
      "iter : 22\n",
      "[ 0.75039343 -0.52524402]\n",
      "[1.3898612  0.48679992]\n",
      " \n",
      "iter : 23\n",
      "[ 0.78694929 -0.51399426]\n",
      "[1.44131396 0.51322847]\n",
      " \n",
      "iter : 24\n",
      "[ 0.82685711 -0.50321244]\n",
      "[1.49287383 0.54166003]\n",
      " \n",
      "iter : 25\n",
      "[ 0.86763072 -0.4872265 ]\n",
      "[1.54401468 0.57298856]\n",
      " \n",
      "iter : 26\n",
      "[ 0.91058723 -0.46774714]\n",
      "[1.59551988 0.60158713]\n",
      " \n",
      "iter : 27\n",
      "[ 0.95435482 -0.45049403]\n",
      "[1.64432312 0.63403418]\n",
      " \n",
      "iter : 28\n",
      "[ 0.99971938 -0.42712986]\n",
      "[1.69293465 0.66251848]\n",
      " \n",
      "iter : 29\n",
      "[ 1.04676778 -0.40604928]\n",
      "[1.74017661 0.69328395]\n",
      " \n",
      "iter : 30\n",
      "[ 1.09532283 -0.3840746 ]\n",
      "[1.78557531 0.72260641]\n",
      " \n",
      "iter : 31\n",
      "[ 1.14594351 -0.36096392]\n",
      "[1.83039647 0.74945402]\n",
      " \n",
      "iter : 32\n",
      "[ 1.19764013 -0.33806824]\n",
      "[1.87236515 0.77458438]\n",
      " \n",
      "iter : 33\n",
      "[ 1.2496166  -0.30954355]\n",
      "[1.91232581 0.79592547]\n",
      " \n",
      "iter : 34\n",
      "[ 1.30239213 -0.2844564 ]\n",
      "[1.95077715 0.81841976]\n",
      " \n",
      "iter : 35\n",
      "[ 1.35634985 -0.26303756]\n",
      "[1.98555996 0.83812591]\n",
      " \n",
      "iter : 36\n",
      "[ 1.40961849 -0.23957364]\n",
      "[2.01896996 0.85702681]\n",
      " \n",
      "iter : 37\n",
      "[ 1.46247541 -0.21555501]\n",
      "[2.04841076 0.87415375]\n",
      " \n",
      "iter : 38\n",
      "[ 1.51578984 -0.1945696 ]\n",
      "[2.07609662 0.89128156]\n",
      " \n",
      "iter : 39\n",
      "[ 1.56896641 -0.17454973]\n",
      "[2.09980144 0.90504379]\n",
      " \n",
      "iter : 40\n",
      "[ 1.62186368 -0.15470986]\n",
      "[2.12151878 0.91683088]\n",
      " \n",
      "iter : 41\n",
      "[ 1.67335947 -0.13254668]\n",
      "[2.14161996 0.92697324]\n",
      " \n",
      "iter : 42\n",
      "[ 1.7231549  -0.11074488]\n",
      "[2.16006913 0.93509365]\n",
      " \n",
      "iter : 43\n",
      "[ 1.77276803 -0.09250035]\n",
      "[2.17464949 0.94273255]\n",
      " \n",
      "iter : 44\n",
      "[ 1.81996127 -0.07096673]\n",
      "[2.18867847 0.94948272]\n",
      " \n",
      "iter : 45\n",
      "[ 1.86693097 -0.05368583]\n",
      "[2.20025856 0.95549515]\n",
      " \n",
      "iter : 46\n",
      "[ 1.91104919 -0.03380861]\n",
      "[2.20830759 0.95977181]\n",
      " \n",
      "iter : 47\n",
      "[ 1.9550868  -0.01817889]\n",
      "[2.21521966 0.96346974]\n",
      " \n",
      "iter : 48\n",
      "[1.99620904e+00 9.12799976e-04]\n",
      "[2.22085007 0.96606468]\n",
      " \n",
      "iter : 49\n",
      "[2.03481458 0.01830052]\n",
      "[2.22338678 0.96819374]\n",
      " \n",
      "iter : 50\n",
      "[2.0737471  0.03268462]\n",
      "[2.22581172 0.96953265]\n",
      " \n",
      "iter : 51\n",
      "[2.11003424 0.0467757 ]\n",
      "[2.22526348 0.97013576]\n",
      " \n",
      "iter : 52\n",
      "[2.14444101 0.06092418]\n",
      "[2.22339898 0.96925864]\n",
      " \n",
      "iter : 53\n",
      "[2.1766846  0.07435566]\n",
      "[2.22060574 0.96892193]\n",
      " \n",
      "iter : 54\n",
      "[2.20460149 0.08917922]\n",
      "[2.21548051 0.96767227]\n",
      " \n",
      "iter : 55\n",
      "[2.23105436 0.10137773]\n",
      "[2.20920391 0.96577117]\n",
      " \n",
      "iter : 56\n",
      "[2.25689026 0.11484536]\n",
      "[2.20381244 0.96353067]\n",
      " \n",
      "iter : 57\n",
      "[2.27918158 0.12651499]\n",
      "[2.19565328 0.96083216]\n",
      " \n",
      "iter : 58\n",
      "[2.30116901 0.13767986]\n",
      "[2.18873576 0.95756186]\n",
      " \n",
      "iter : 59\n",
      "[2.32091008 0.14903852]\n",
      "[2.18071961 0.95405836]\n",
      " \n",
      "iter : 60\n",
      "[2.33742607 0.16024305]\n",
      "[2.17138113 0.95018884]\n",
      " \n",
      "iter : 61\n",
      "[2.35343783 0.1718068 ]\n",
      "[2.16294779 0.94627552]\n",
      " \n",
      "iter : 62\n",
      "[2.3666817  0.18175657]\n",
      "[2.15259785 0.94098234]\n",
      " \n",
      "iter : 63\n",
      "[2.37903663 0.19032072]\n",
      "[2.1430132  0.93605269]\n",
      " \n",
      "iter : 64\n",
      "[2.39061538 0.19874986]\n",
      "[2.13374393 0.92981956]\n",
      " \n",
      "iter : 65\n",
      "[2.40070322 0.2062149 ]\n",
      "[2.12508469 0.92498187]\n",
      " \n",
      "iter : 66\n",
      "[2.40856939 0.21435013]\n",
      "[2.11482591 0.91864602]\n",
      " \n",
      "iter : 67\n",
      "[2.41684042 0.2226966 ]\n",
      "[2.10715929 0.91389925]\n",
      " \n",
      "iter : 68\n",
      "[2.42365432 0.23027241]\n",
      "[2.09911126 0.9090936 ]\n",
      " \n",
      "iter : 69\n",
      "[2.42934161 0.23716105]\n",
      "[2.08997184 0.90206092]\n",
      " \n",
      "iter : 70\n",
      "[2.43359604 0.24344938]\n",
      "[2.0818781  0.89627693]\n",
      " \n",
      "iter : 71\n",
      "[2.43724426 0.25022817]\n",
      "[2.07317657 0.88977206]\n",
      " \n",
      "iter : 72\n",
      "[2.44021891 0.25565927]\n",
      "[2.06543858 0.88411773]\n",
      " \n",
      "iter : 73\n",
      "[2.44287796 0.2617862 ]\n",
      "[2.05820666 0.87695012]\n",
      " \n",
      "iter : 74\n",
      "[2.44508246 0.2665977 ]\n",
      "[2.0507454  0.86987372]\n",
      " \n",
      "iter : 75\n",
      "[2.44665545 0.2716421 ]\n",
      "[2.04396836 0.86287587]\n",
      " \n",
      "iter : 76\n",
      "[2.44772951 0.27642676]\n",
      "[2.03784574 0.85717309]\n",
      " \n",
      "iter : 77\n",
      "[2.44855687 0.28133431]\n",
      "[2.03211955 0.85055667]\n",
      " \n",
      "iter : 78\n",
      "[2.44890281 0.28552344]\n",
      "[2.02660973 0.84427168]\n",
      " \n",
      "iter : 79\n",
      "[2.44888223 0.28936064]\n",
      "[2.02123975 0.83977143]\n",
      " \n",
      "iter : 80\n",
      "[2.4483047  0.29236407]\n",
      "[2.01589094 0.83452653]\n",
      " \n",
      "iter : 81\n",
      "[2.44786397 0.29625905]\n",
      "[2.01181187 0.82978781]\n",
      " \n",
      "iter : 82\n",
      "[2.44725319 0.29963306]\n",
      "[2.00834243 0.82411932]\n",
      " \n",
      "iter : 83\n",
      "[2.4463961  0.30251609]\n",
      "[2.00410773 0.81754497]\n",
      " \n",
      "iter : 84\n",
      "[2.44538652 0.3054711 ]\n",
      "[2.00010949 0.81223972]\n",
      " \n",
      "iter : 85\n",
      "[2.44469324 0.30839429]\n",
      "[1.99778581 0.80781227]\n",
      " \n",
      "iter : 86\n",
      "[2.4435725  0.31063598]\n",
      "[1.99475182 0.80282177]\n",
      " \n",
      "iter : 87\n",
      "[2.44209883 0.31289376]\n",
      "[1.99161932 0.79655632]\n",
      " \n",
      "iter : 88\n",
      "[2.44049296 0.31537721]\n",
      "[1.98897679 0.79204933]\n",
      " \n",
      "iter : 89\n",
      "[2.43915958 0.31755472]\n",
      "[1.987333   0.78748688]\n",
      " \n",
      "iter : 90\n",
      "[2.43774853 0.31938483]\n",
      "[1.98506313 0.78280347]\n",
      " \n",
      "iter : 91\n",
      "[2.43626474 0.32119923]\n",
      "[1.98327829 0.77846278]\n",
      " \n",
      "iter : 92\n",
      "[2.43471717 0.32280565]\n",
      "[1.98133582 0.77236464]\n",
      " \n",
      "iter : 93\n",
      "[2.43285358 0.32427853]\n",
      "[1.9792048  0.76830584]\n",
      " \n",
      "iter : 94\n",
      "[2.43106368 0.32565217]\n",
      "[1.97759133 0.76303148]\n",
      " \n",
      "iter : 95\n",
      "[2.42918415 0.32688632]\n",
      "[1.97585199 0.75722857]\n",
      " \n",
      "iter : 96\n",
      "[2.42743125 0.32841673]\n",
      "[1.97454651 0.7528188 ]\n",
      " \n",
      "iter : 97\n",
      "[2.42591919 0.32978202]\n",
      "[1.97450315 0.74915456]\n",
      " \n",
      "iter : 98\n",
      "[2.42416104 0.3310988 ]\n",
      "[1.97390552 0.74511256]\n",
      " \n",
      "iter : 99\n",
      "[2.42262504 0.33201609]\n",
      "[1.9737707  0.74037256]\n",
      " \n",
      "iter : 100\n",
      "[2.42108342 0.33312697]\n",
      "[1.9732086  0.73524606]\n",
      " \n",
      "iter : 101\n",
      "[2.41930875 0.33389975]\n",
      "[1.9724715  0.73005582]\n",
      " \n",
      "iter : 102\n",
      "[2.41776616 0.3346274 ]\n",
      "[1.97223295 0.72664443]\n",
      " \n",
      "iter : 103\n",
      "[2.41619786 0.33524123]\n",
      "[1.97183146 0.723196  ]\n",
      " \n",
      "iter : 104\n",
      "[2.41443159 0.33594797]\n",
      "[1.97127707 0.71926682]\n",
      " \n",
      "iter : 105\n",
      "[2.41300891 0.33658593]\n",
      "[1.97173463 0.7147075 ]\n",
      " \n",
      "iter : 106\n",
      "[2.41133448 0.3374335 ]\n",
      "[1.97195671 0.71154429]\n",
      " \n",
      "iter : 107\n",
      "[2.40967657 0.33795533]\n",
      "[1.97180657 0.7069844 ]\n",
      " \n",
      "iter : 108\n",
      "[2.40784511 0.33855533]\n",
      "[1.97168694 0.7028199 ]\n",
      " \n",
      "iter : 109\n",
      "[2.40651442 0.33911789]\n",
      "[1.97213476 0.69996075]\n",
      " \n",
      "iter : 110\n",
      "[2.40499122 0.3396523 ]\n",
      "[1.97190494 0.69628615]\n",
      " \n",
      "iter : 111\n",
      "[2.4036257  0.33997863]\n",
      "[1.97255857 0.69204608]\n",
      " \n",
      "iter : 112\n",
      "[2.4023623  0.34028013]\n",
      "[1.97266715 0.689093  ]\n",
      " \n",
      "iter : 113\n",
      "[2.40104093 0.34054839]\n",
      "[1.9730162  0.68637673]\n",
      " \n",
      "iter : 114\n",
      "[2.39965274 0.34080614]\n",
      "[1.97325958 0.68199088]\n",
      " \n",
      "iter : 115\n",
      "[2.39862705 0.34106552]\n",
      "[1.97382404 0.67812253]\n",
      " \n",
      "iter : 116\n",
      "[2.39727243 0.34138729]\n",
      "[1.97442851 0.67416757]\n",
      " \n",
      "iter : 117\n",
      "[2.39597181 0.34153404]\n",
      "[1.97529204 0.670506  ]\n",
      " \n",
      "iter : 118\n",
      "[2.39471119 0.34178386]\n",
      "[1.97616663 0.66719332]\n",
      " \n",
      "iter : 119\n",
      "[2.39382054 0.3418745 ]\n",
      "[1.9770331  0.66506916]\n",
      " \n",
      "iter : 120\n",
      "[2.39271588 0.34212077]\n",
      "[1.97743063 0.6615748 ]\n",
      " \n",
      "iter : 121\n",
      "[2.39161857 0.34199347]\n",
      "[1.97782615 0.65824943]\n",
      " \n",
      "iter : 122\n",
      "[2.39068415 0.34208222]\n",
      "[1.97816611 0.65445061]\n",
      " \n",
      "iter : 123\n",
      "[2.38948402 0.3420752 ]\n",
      "[1.97850219 0.65080929]\n",
      " \n",
      "iter : 124\n",
      "[2.38857876 0.342221  ]\n",
      "[1.97959886 0.64897979]\n",
      " \n",
      "iter : 125\n",
      "[2.38776658 0.34218978]\n",
      "[1.98055261 0.64698145]\n",
      " \n",
      "iter : 126\n",
      "[2.38662667 0.34220657]\n",
      "[1.980708   0.64443991]\n",
      " \n",
      "iter : 127\n",
      "[2.38570659 0.34202455]\n",
      "[1.98147812 0.64073884]\n",
      " \n",
      "iter : 128\n",
      "[2.38478503 0.34192502]\n",
      "[1.98189982 0.63714219]\n",
      " \n",
      "iter : 129\n",
      "[2.38398119 0.34191759]\n",
      "[1.98269033 0.63376061]\n",
      " \n",
      "iter : 130\n",
      "[2.3833621  0.34201306]\n",
      "[1.98380046 0.63212996]\n",
      " \n",
      "iter : 131\n",
      "[2.38250804 0.34181526]\n",
      "[1.98470952 0.62932188]\n",
      " \n",
      "iter : 132\n",
      "[2.38183828 0.34167832]\n",
      "[1.98564573 0.62751481]\n",
      " \n",
      "iter : 133\n",
      "[2.381328  0.3418223]\n",
      "[1.98674326 0.62472989]\n",
      " \n",
      "iter : 134\n",
      "[2.38032742 0.34157519]\n",
      "[1.98733757 0.62155788]\n",
      " \n",
      "iter : 135\n",
      "[2.37956891 0.34158348]\n",
      "[1.98825723 0.61963925]\n",
      " \n",
      "iter : 136\n",
      "[2.37885194 0.34141819]\n",
      "[1.98877093 0.61741335]\n",
      " \n",
      "iter : 137\n",
      "[2.37841077 0.34137151]\n",
      "[1.98975568 0.61561153]\n",
      " \n",
      "iter : 138\n",
      "[2.37764377 0.34123763]\n",
      "[1.99011286 0.61254787]\n",
      " \n",
      "iter : 139\n",
      "[2.37693654 0.34120558]\n",
      "[1.99083703 0.61087051]\n",
      " \n",
      "iter : 140\n",
      "[2.37632204 0.34107126]\n",
      "[1.9914753  0.60793098]\n",
      " \n",
      "iter : 141\n",
      "[2.37544005 0.34084837]\n",
      "[1.99190309 0.6050339 ]\n",
      " \n",
      "iter : 142\n",
      "[2.37493238 0.34078573]\n",
      "[1.99268736 0.60221967]\n",
      " \n",
      "iter : 143\n",
      "[2.37424217 0.340623  ]\n",
      "[1.99311492 0.60041042]\n",
      " \n",
      "iter : 144\n",
      "[2.3737868  0.34047212]\n",
      "[1.99394726 0.59769361]\n",
      " \n",
      "iter : 145\n",
      "[2.37344099 0.34043525]\n",
      "[1.99500662 0.59648706]\n",
      " \n",
      "iter : 146\n",
      "[2.37307682 0.34028633]\n",
      "[1.99586785 0.59407848]\n",
      " \n",
      "iter : 147\n",
      "[2.37242736 0.34014846]\n",
      "[1.99653765 0.59172061]\n",
      " \n",
      "iter : 148\n",
      "[2.37181642 0.33993552]\n",
      "[1.99699613 0.58922034]\n",
      " \n",
      "iter : 149\n",
      "[2.37136693 0.33981916]\n",
      "[1.99752544 0.58674743]\n",
      " \n",
      "iter : 150\n",
      "[2.37075571 0.33962286]\n",
      "[1.99804105 0.58451355]\n",
      " \n",
      "iter : 151\n"
     ]
    },
    {
     "name": "stdout",
     "output_type": "stream",
     "text": [
      "[2.37031873 0.33943376]\n",
      "[1.99874505 0.58314429]\n",
      " \n",
      "iter : 152\n",
      "[2.37004992 0.33940295]\n",
      "[1.99952379 0.5816305 ]\n",
      " \n",
      "iter : 153\n",
      "[2.36962681 0.33926166]\n",
      "[2.00042492 0.58054938]\n",
      " \n",
      "iter : 154\n",
      "[2.36922806 0.33914737]\n",
      "[2.00097702 0.57905536]\n",
      " \n",
      "iter : 155\n",
      "[2.36879784 0.33896555]\n",
      "[2.00164314 0.57747432]\n",
      " \n",
      "iter : 156\n",
      "[2.36863983 0.33885337]\n",
      "[2.00258382 0.57627521]\n",
      " \n",
      "iter : 157\n",
      "[2.3683491  0.33873014]\n",
      "[2.00312377 0.57399421]\n",
      " \n",
      "iter : 158\n",
      "[2.36792181 0.33852271]\n",
      "[2.00357034 0.57247414]\n",
      " \n",
      "iter : 159\n",
      "[2.36785896 0.3384957 ]\n",
      "[2.00445007 0.57031969]\n",
      " \n",
      "iter : 160\n",
      "[2.36763237 0.3383912 ]\n",
      "[2.00515186 0.56806321]\n",
      " \n",
      "iter : 161\n",
      "[2.36733856 0.33830343]\n",
      "[2.005974   0.56627493]\n",
      " \n",
      "iter : 162\n",
      "[2.36695097 0.33815212]\n",
      "[2.00658812 0.56523294]\n",
      " \n",
      "iter : 163\n",
      "[2.36657563 0.33794325]\n",
      "[2.00696278 0.56375283]\n",
      " \n",
      "iter : 164\n",
      "[2.36640375 0.33782273]\n",
      "[2.00780329 0.56258908]\n",
      " \n",
      "iter : 165\n",
      "[2.36605833 0.33767332]\n",
      "[2.00837206 0.56141774]\n",
      " \n",
      "iter : 166\n",
      "[2.36584376 0.33756513]\n",
      "[2.0090058  0.56004068]\n",
      " \n",
      "iter : 167\n",
      "[2.36562695 0.33747408]\n",
      "[2.00970805 0.55817397]\n",
      " \n",
      "iter : 168\n",
      "[2.36532642 0.33735151]\n",
      "[2.01006817 0.55676807]\n",
      " \n",
      "iter : 169\n",
      "[2.36509124 0.33721616]\n",
      "[2.01054563 0.55559826]\n",
      " \n",
      "iter : 170\n",
      "[2.36490439 0.33709723]\n",
      "[2.01105668 0.55348017]\n",
      " \n",
      "iter : 171\n",
      "[2.36483502 0.3370424 ]\n",
      "[2.01166504 0.55161229]\n",
      " \n",
      "iter : 172\n",
      "[2.3648524  0.33693716]\n",
      "[2.01236863 0.55059719]\n",
      " \n",
      "iter : 173\n",
      "[2.36463601 0.33679488]\n",
      "[2.01303767 0.54898249]\n",
      " \n",
      "iter : 174\n",
      "[2.36457104 0.33671915]\n",
      "[2.01366729 0.54797098]\n",
      " \n",
      "iter : 175\n",
      "[2.36437683 0.33658416]\n",
      "[2.01401635 0.54628854]\n",
      " \n",
      "iter : 176\n",
      "[2.36438649 0.33651363]\n",
      "[2.0146543  0.54475997]\n",
      " \n",
      "iter : 177\n",
      "[2.36411334 0.33636038]\n",
      "[2.01502579 0.5438281 ]\n",
      " \n",
      "iter : 178\n",
      "[2.36386003 0.33620684]\n",
      "[2.01538695 0.54202935]\n",
      " \n",
      "iter : 179\n",
      "[2.36391395 0.33610329]\n",
      "[2.01599638 0.54119161]\n",
      " \n",
      "iter : 180\n",
      "[2.36391639 0.33604548]\n",
      "[2.01655059 0.5397277 ]\n",
      " \n",
      "iter : 181\n",
      "[2.3637022  0.33588604]\n",
      "[2.01685188 0.53805357]\n",
      " \n",
      "iter : 182\n",
      "[2.36357757 0.33574989]\n",
      "[2.01729527 0.5372468 ]\n",
      " \n",
      "iter : 183\n",
      "[2.36360755 0.3356996 ]\n",
      "[2.01783112 0.5358614 ]\n",
      " \n",
      "iter : 184\n",
      "[2.36364403 0.33558917]\n",
      "[2.01839116 0.53505553]\n",
      " \n",
      "iter : 185\n",
      "[2.36343172 0.33545103]\n",
      "[2.01871049 0.53354033]\n",
      " \n",
      "iter : 186\n",
      "[2.36345232 0.33537269]\n",
      "[2.01929073 0.53278386]\n",
      " \n",
      "iter : 187\n",
      "[2.36333432 0.33525709]\n",
      "[2.01955629 0.53134466]\n",
      " \n",
      "iter : 188\n",
      "[2.36339469 0.33522201]\n",
      "[2.02007633 0.5306355 ]\n",
      " \n",
      "iter : 189\n",
      "[2.36323337 0.3351197 ]\n",
      "[2.02033669 0.5292245 ]\n",
      " \n",
      "iter : 190\n",
      "[2.36313501 0.33500565]\n",
      "[2.02069419 0.52853299]\n",
      " \n",
      "iter : 191\n",
      "[2.36306358 0.33492279]\n",
      "[2.02114089 0.52778559]\n",
      " \n",
      "iter : 192\n",
      "[2.36301794 0.33485648]\n",
      "[2.02151017 0.52634874]\n",
      " \n",
      "iter : 193\n",
      "[2.36304801 0.33479655]\n",
      "[2.02197747 0.52572092]\n",
      " \n",
      "iter : 194\n",
      "[2.36293515 0.334697  ]\n",
      "[2.02233951 0.52453572]\n",
      " \n",
      "iter : 195\n",
      "[2.36295481 0.33459335]\n",
      "[2.02271843 0.52387278]\n",
      " \n",
      "iter : 196\n",
      "[2.36302008 0.33455674]\n",
      "[2.02320653 0.52323928]\n",
      " \n",
      "iter : 197\n",
      "[2.36289607 0.33444034]\n",
      "[2.02349842 0.52209382]\n",
      " \n",
      "iter : 198\n",
      "[2.36280566 0.33434648]\n",
      "[2.02372782 0.52077986]\n",
      " \n",
      "iter : 199\n",
      "[2.36278615 0.33427604]\n",
      "[2.02412115 0.52020986]\n",
      " \n",
      "iter : 200\n",
      "[2.36277306 0.33420483]\n",
      "[2.02450599 0.51959576]\n",
      " \n",
      "[[ 2.36277306  0.33420483]\n",
      " [ 2.38348505  0.33176898]\n",
      " [-0.18944275  2.35668356]\n",
      " [ 0.16657142  1.79874508]]\n",
      "[[2.02450599 0.51959576]\n",
      " [2.09601594 0.26248188]\n",
      " [1.59785426 0.58170576]\n",
      " [0.1205133  2.16247613]\n",
      " [0.12338279 2.12132703]]\n"
     ]
    }
   ],
   "source": [
    "n_factors = 2\n",
    "learning_rate = 0.01\n",
    "n_iter = 200\n",
    "\n",
    "sample_row, sample_col = ratings.nonzero()\n",
    "n_samples = len(sample_row)\n",
    "user_vecs = np.random.normal(scale=1./n_factors,\\\n",
    "                                    size=(n_users, n_factors))\n",
    "item_vecs = np.random.normal(scale=1./n_factors,\n",
    "                                    size=(n_items, n_factors))\n",
    "print(user_vecs)\n",
    "print(item_vecs)\n",
    "\n",
    "def predict(u, i):\n",
    "    \"\"\" Single user and item prediction.\"\"\"\n",
    "    pred = user_vecs[u, :].dot(item_vecs[i, :].T)\n",
    "    return pred\n",
    "\n",
    "ctr = 1\n",
    "while ctr <= n_iter:\n",
    "    print('iter : {}'.format(ctr))\n",
    "    training_indices = np.arange(n_samples)\n",
    "    np.random.shuffle(training_indices)\n",
    "    for idx in training_indices:\n",
    "            #print('idx : {}'.format(idx))\n",
    "            u = sample_row[idx]\n",
    "            i = sample_col[idx]\n",
    "            prediction = predict(u, i)\n",
    "            #print('pred : {}'.format(prediction))\n",
    "            e = (ratings[u,i] - prediction) # error\n",
    "            #print('error : {}'.format(e))\n",
    "\n",
    "            #Update latent factors\n",
    "            user_vecs[u, :] += learning_rate * \\\n",
    "                                    (e * item_vecs[i, :])\n",
    "            #print('user_vecs : {}'.format(user_vecs[u, :]))\n",
    "            \n",
    "            item_vecs[i, :] += learning_rate * \\\n",
    "                                    (e * user_vecs[u, :])\n",
    "            #print('item_vecs : {}'.format(item_vecs[i, :]))\n",
    "            \n",
    "    #print(user_vecs)\n",
    "    #print(item_vecs)\n",
    "    print(user_vecs[0,:])\n",
    "    print(item_vecs[0,:])\n",
    "    print(' ')\n",
    "    ctr += 1\n",
    "    \n",
    "print(user_vecs)\n",
    "print(item_vecs)\n",
    "    \n"
   ]
  },
  {
   "cell_type": "code",
   "execution_count": null,
   "metadata": {},
   "outputs": [],
   "source": []
  },
  {
   "cell_type": "code",
   "execution_count": 7,
   "metadata": {},
   "outputs": [],
   "source": [
    "best_sgd_model2 = ExplicitMF(ratings, n_factors=2, learning='sgd', \\\n",
    "                            item_fact_reg=0.001, user_fact_reg=0.001, \\\n",
    "                            user_bias_reg=0.001, item_bias_reg=0.001)\n",
    "best_sgd_model2.train(200, learning_rate=0.01)"
   ]
  },
  {
   "cell_type": "code",
   "execution_count": 8,
   "metadata": {},
   "outputs": [
    {
     "data": {
      "text/plain": [
       "array([[-0.53912869,  0.88673098],\n",
       "       [ 0.29000684,  0.92943346],\n",
       "       [-0.71064615,  0.49456851],\n",
       "       [ 0.79709565, -1.57474573],\n",
       "       [ 0.4230077 , -1.63085951]])"
      ]
     },
     "execution_count": 8,
     "metadata": {},
     "output_type": "execute_result"
    }
   ],
   "source": [
    "best_sgd_model2.item_vecs"
   ]
  },
  {
   "cell_type": "code",
   "execution_count": 9,
   "metadata": {},
   "outputs": [
    {
     "data": {
      "text/plain": [
       "array([[ 0.45340535,  1.31310708],\n",
       "       [-0.79025066,  0.67372707],\n",
       "       [ 0.60038975, -1.82746333],\n",
       "       [ 1.0363758 , -1.22600981]])"
      ]
     },
     "execution_count": 9,
     "metadata": {},
     "output_type": "execute_result"
    }
   ],
   "source": [
    "best_sgd_model2.user_vecs"
   ]
  },
  {
   "cell_type": "code",
   "execution_count": null,
   "metadata": {},
   "outputs": [],
   "source": []
  },
  {
   "cell_type": "code",
   "execution_count": 32,
   "metadata": {},
   "outputs": [],
   "source": [
    "#cosine similarity\n",
    "item_vecs = np.matrix([[ 0.90998808, -1.00154913],\n",
    "       [ 0.85788531, -0.89118291],\n",
    "       [ 0.3216885 , -1.11450449],\n",
    "       [-0.81248112,  1.22473547],\n",
    "       [-1.12746689,  0.89871308]])"
   ]
  },
  {
   "cell_type": "code",
   "execution_count": 30,
   "metadata": {},
   "outputs": [],
   "source": [
    "item_vecs = np.matrix([[ 1, 0.5],\n",
    "       [ 2, 0.5],\n",
    "       [ 3, 0.5],\n",
    "       [ 0.5, 1],\n",
    "       [ 0.5, 2]])"
   ]
  },
  {
   "cell_type": "code",
   "execution_count": 33,
   "metadata": {},
   "outputs": [
    {
     "name": "stdout",
     "output_type": "stream",
     "text": [
      "[[ 1.83117897  1.67322887  1.4089637  -1.96598088 -1.92608673]\n",
      " [ 1.67322887  1.53017418  1.26919919 -1.78847894 -1.76815502]\n",
      " [ 1.4089637   1.26919919  1.34560375 -1.62633901 -1.3643129 ]\n",
      " [-1.96598088 -1.78847894 -1.62633901  2.16010254  2.01673135]\n",
      " [-1.92608673 -1.76815502 -1.3643129   2.01673135  2.07886679]]\n",
      "[[1.35321061 1.2370021  1.16000162 1.46972873 1.44182759]]\n",
      "[[ 1.          0.99958451  0.89758547 -0.98850008 -0.98718174]\n",
      " [ 0.99958451  1.          0.88450595 -0.98373067 -0.99137183]\n",
      " [ 0.89758547  0.88450595  1.         -0.95392735 -0.81572178]\n",
      " [-0.98850008 -0.98373067 -0.95392735  1.          0.95169445]\n",
      " [-0.98718174 -0.99137183 -0.81572178  0.95169445  1.        ]]\n"
     ]
    }
   ],
   "source": [
    "sgd_sim = np.zeros((5, 5))\n",
    "\n",
    "sim = item_vecs.dot(item_vecs.T)\n",
    "print(sim)\n",
    "norms = np.array([np.sqrt(np.diagonal(sim))])\n",
    "print(norms)\n",
    "sgd_sim = sim / norms / norms.T\n",
    "print(sgd_sim)"
   ]
  },
  {
   "cell_type": "code",
   "execution_count": 34,
   "metadata": {},
   "outputs": [
    {
     "name": "stdout",
     "output_type": "stream",
     "text": [
      "[1.83117897 1.53017418 1.34560375 2.16010254 2.07886679]\n"
     ]
    }
   ],
   "source": [
    "print(np.diagonal(sim))"
   ]
  },
  {
   "cell_type": "code",
   "execution_count": 35,
   "metadata": {},
   "outputs": [
    {
     "name": "stdout",
     "output_type": "stream",
     "text": [
      "[1.35321061 1.2370021  1.16000162 1.46972873 1.44182759]\n"
     ]
    }
   ],
   "source": [
    "print(np.sqrt(np.diagonal(sim)))"
   ]
  },
  {
   "cell_type": "code",
   "execution_count": 36,
   "metadata": {},
   "outputs": [
    {
     "name": "stdout",
     "output_type": "stream",
     "text": [
      "[[1.35321061 1.2370021  1.16000162 1.46972873 1.44182759]]\n"
     ]
    }
   ],
   "source": [
    "print(np.array([np.sqrt(np.diagonal(sim))]))"
   ]
  },
  {
   "cell_type": "code",
   "execution_count": 37,
   "metadata": {},
   "outputs": [
    {
     "name": "stdout",
     "output_type": "stream",
     "text": [
      "[[ 1.35321061  1.35264837  1.21462219 -1.3376488  -1.33586481]\n",
      " [ 1.23648814  1.2370021   1.09413571 -1.2168769  -1.22632903]\n",
      " [ 1.0412006   1.02602833  1.16000162 -1.10655727 -0.94623859]\n",
      " [-1.45282697 -1.44581723 -1.40201444  1.46972873  1.39873267]\n",
      " [-1.42334587 -1.42938725 -1.17613017  1.3721793   1.44182759]]\n"
     ]
    }
   ],
   "source": [
    "print(sim / norms)"
   ]
  },
  {
   "cell_type": "code",
   "execution_count": 38,
   "metadata": {},
   "outputs": [
    {
     "name": "stdout",
     "output_type": "stream",
     "text": [
      "[[ 1.          0.99958451  0.89758547 -0.98850008 -0.98718174]\n",
      " [ 0.99958451  1.          0.88450595 -0.98373067 -0.99137183]\n",
      " [ 0.89758547  0.88450595  1.         -0.95392735 -0.81572178]\n",
      " [-0.98850008 -0.98373067 -0.95392735  1.          0.95169445]\n",
      " [-0.98718174 -0.99137183 -0.81572178  0.95169445  1.        ]]\n"
     ]
    }
   ],
   "source": [
    "print(sim / norms / norms.T)"
   ]
  },
  {
   "cell_type": "code",
   "execution_count": 39,
   "metadata": {},
   "outputs": [
    {
     "name": "stdout",
     "output_type": "stream",
     "text": [
      "[[1.35321061]\n",
      " [1.2370021 ]\n",
      " [1.16000162]\n",
      " [1.46972873]\n",
      " [1.44182759]]\n"
     ]
    }
   ],
   "source": [
    "print(norms.T)"
   ]
  },
  {
   "cell_type": "code",
   "execution_count": 56,
   "metadata": {},
   "outputs": [
    {
     "name": "stdout",
     "output_type": "stream",
     "text": [
      "[[0 5 3 0 0]]\n"
     ]
    }
   ],
   "source": [
    "#cosine similarity\n",
    "my_ratings = np.matrix([[0, 5, 3, 0, 0]])\n",
    "print(my_ratings)"
   ]
  },
  {
   "cell_type": "code",
   "execution_count": 57,
   "metadata": {},
   "outputs": [
    {
     "name": "stdout",
     "output_type": "stream",
     "text": [
      "[[ 5.25449205 -7.79942802]]\n"
     ]
    }
   ],
   "source": [
    "my_pref = my_ratings.dot(item_vecs)\n",
    "print(my_pref)"
   ]
  },
  {
   "cell_type": "code",
   "execution_count": 58,
   "metadata": {},
   "outputs": [
    {
     "name": "stdout",
     "output_type": "stream",
     "text": [
      "[[ 12.59303548  11.4584685   10.38280721 -13.82141173 -12.93371379]]\n"
     ]
    }
   ],
   "source": [
    "my_recommendation = my_pref.dot(item_vecs.T)\n",
    "print(my_recommendation)"
   ]
  },
  {
   "cell_type": "code",
   "execution_count": null,
   "metadata": {},
   "outputs": [],
   "source": []
  }
 ],
 "metadata": {
  "kernelspec": {
   "display_name": "Python 2",
   "language": "python",
   "name": "python2"
  },
  "language_info": {
   "codemirror_mode": {
    "name": "ipython",
    "version": 2
   },
   "file_extension": ".py",
   "mimetype": "text/x-python",
   "name": "python",
   "nbconvert_exporter": "python",
   "pygments_lexer": "ipython2",
   "version": "2.7.14"
  }
 },
 "nbformat": 4,
 "nbformat_minor": 2
}
