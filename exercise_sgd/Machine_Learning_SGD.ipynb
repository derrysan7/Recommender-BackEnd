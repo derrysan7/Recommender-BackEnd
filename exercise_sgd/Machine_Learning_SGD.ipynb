{
 "cells": [
  {
   "cell_type": "code",
   "execution_count": 1,
   "metadata": {},
   "outputs": [],
   "source": [
    "import numpy as np\n",
    "import pandas as pd\n",
    "np.random.seed(0)"
   ]
  },
  {
   "cell_type": "code",
   "execution_count": 2,
   "metadata": {},
   "outputs": [
    {
     "name": "stdout",
     "output_type": "stream",
     "text": [
      "D:\\Documents\\Tugas\\Anaconda\\Skripsi_Recommender\\exercise_sgd\\ml-100k\n"
     ]
    }
   ],
   "source": [
    "cd ml-100k/"
   ]
  },
  {
   "cell_type": "code",
   "execution_count": 3,
   "metadata": {},
   "outputs": [
    {
     "data": {
      "text/html": [
       "<div>\n",
       "<style scoped>\n",
       "    .dataframe tbody tr th:only-of-type {\n",
       "        vertical-align: middle;\n",
       "    }\n",
       "\n",
       "    .dataframe tbody tr th {\n",
       "        vertical-align: top;\n",
       "    }\n",
       "\n",
       "    .dataframe thead th {\n",
       "        text-align: right;\n",
       "    }\n",
       "</style>\n",
       "<table border=\"1\" class=\"dataframe\">\n",
       "  <thead>\n",
       "    <tr style=\"text-align: right;\">\n",
       "      <th></th>\n",
       "      <th>user_id</th>\n",
       "      <th>item_id</th>\n",
       "      <th>rating</th>\n",
       "      <th>timestamp</th>\n",
       "    </tr>\n",
       "  </thead>\n",
       "  <tbody>\n",
       "    <tr>\n",
       "      <th>0</th>\n",
       "      <td>196</td>\n",
       "      <td>242</td>\n",
       "      <td>3</td>\n",
       "      <td>881250949</td>\n",
       "    </tr>\n",
       "    <tr>\n",
       "      <th>1</th>\n",
       "      <td>186</td>\n",
       "      <td>302</td>\n",
       "      <td>3</td>\n",
       "      <td>891717742</td>\n",
       "    </tr>\n",
       "    <tr>\n",
       "      <th>2</th>\n",
       "      <td>22</td>\n",
       "      <td>377</td>\n",
       "      <td>1</td>\n",
       "      <td>878887116</td>\n",
       "    </tr>\n",
       "    <tr>\n",
       "      <th>3</th>\n",
       "      <td>244</td>\n",
       "      <td>51</td>\n",
       "      <td>2</td>\n",
       "      <td>880606923</td>\n",
       "    </tr>\n",
       "    <tr>\n",
       "      <th>4</th>\n",
       "      <td>166</td>\n",
       "      <td>346</td>\n",
       "      <td>1</td>\n",
       "      <td>886397596</td>\n",
       "    </tr>\n",
       "  </tbody>\n",
       "</table>\n",
       "</div>"
      ],
      "text/plain": [
       "   user_id  item_id  rating  timestamp\n",
       "0      196      242       3  881250949\n",
       "1      186      302       3  891717742\n",
       "2       22      377       1  878887116\n",
       "3      244       51       2  880606923\n",
       "4      166      346       1  886397596"
      ]
     },
     "execution_count": 3,
     "metadata": {},
     "output_type": "execute_result"
    }
   ],
   "source": [
    "names = ['user_id', 'item_id', 'rating', 'timestamp']\n",
    "df = pd.read_csv('u.data', sep='\\t', names=names)\n",
    "df.head()"
   ]
  },
  {
   "cell_type": "code",
   "execution_count": 4,
   "metadata": {},
   "outputs": [
    {
     "data": {
      "text/plain": [
       "array([[5., 3., 4., ..., 0., 0., 0.],\n",
       "       [4., 0., 0., ..., 0., 0., 0.],\n",
       "       [0., 0., 0., ..., 0., 0., 0.],\n",
       "       ...,\n",
       "       [5., 0., 0., ..., 0., 0., 0.],\n",
       "       [0., 0., 0., ..., 0., 0., 0.],\n",
       "       [0., 5., 0., ..., 0., 0., 0.]])"
      ]
     },
     "execution_count": 4,
     "metadata": {},
     "output_type": "execute_result"
    }
   ],
   "source": [
    "n_users = df.user_id.unique().shape[0]\n",
    "n_items = df.item_id.unique().shape[0]\n",
    "ratings = np.zeros((n_users, n_items))\n",
    "for row in df.itertuples():\n",
    "    ratings[row[1]-1, row[2]-1] = row[3]\n",
    "ratings"
   ]
  },
  {
   "cell_type": "code",
   "execution_count": 5,
   "metadata": {},
   "outputs": [
    {
     "name": "stdout",
     "output_type": "stream",
     "text": [
      "943 users\n",
      "1682 items\n",
      "Sparsity: 6.30%\n"
     ]
    }
   ],
   "source": [
    "print str(n_users) + ' users'\n",
    "print str(n_items) + ' items'\n",
    "sparsity = float(len(ratings.nonzero()[0]))\n",
    "sparsity /= (ratings.shape[0] * ratings.shape[1])\n",
    "sparsity *= 100\n",
    "print 'Sparsity: {:4.2f}%'.format(sparsity)"
   ]
  },
  {
   "cell_type": "code",
   "execution_count": 6,
   "metadata": {},
   "outputs": [],
   "source": [
    "def train_test_split(ratings):\n",
    "    test = np.zeros(ratings.shape)\n",
    "    train = ratings.copy()\n",
    "    for user in xrange(ratings.shape[0]):\n",
    "        test_ratings = np.random.choice(ratings[user, :].nonzero()[0],\n",
    "                                       size=10,replace=False)\n",
    "        train[user, test_ratings] = 0.\n",
    "        test[user, test_ratings] = ratings[user, test_ratings]\n",
    "        \n",
    "    assert(np.all((train * test) == 0))\n",
    "    return train, test"
   ]
  },
  {
   "cell_type": "code",
   "execution_count": 7,
   "metadata": {},
   "outputs": [],
   "source": [
    "train, test = train_test_split(ratings)"
   ]
  },
  {
   "cell_type": "code",
   "execution_count": 4,
   "metadata": {},
   "outputs": [
    {
     "ename": "SyntaxError",
     "evalue": "invalid syntax (ExplicitMF.py, line 125)",
     "output_type": "error",
     "traceback": [
      "Traceback \u001b[1;36m(most recent call last)\u001b[0m:\n",
      "  File \u001b[0;32m\"D:\\Anaconda\\envs\\py36\\lib\\site-packages\\IPython\\core\\interactiveshell.py\"\u001b[0m, line \u001b[0;32m2910\u001b[0m, in \u001b[0;35mrun_code\u001b[0m\n    exec(code_obj, self.user_global_ns, self.user_ns)\n",
      "\u001b[1;36m  File \u001b[1;32m\"<ipython-input-4-99a861a9c8ec>\"\u001b[1;36m, line \u001b[1;32m1\u001b[1;36m, in \u001b[1;35m<module>\u001b[1;36m\u001b[0m\n\u001b[1;33m    from ExplicitMF import ExplicitMF\u001b[0m\n",
      "\u001b[1;36m  File \u001b[1;32m\"D:\\Documents\\Tugas\\Anaconda\\Skripsi_Recommender\\exercise_sgd\\ml-100k\\ExplicitMF.py\"\u001b[1;36m, line \u001b[1;32m125\u001b[0m\n\u001b[1;33m    print '\\tcurrent iteration: {}'.format(ctr)\u001b[0m\n\u001b[1;37m                                  ^\u001b[0m\n\u001b[1;31mSyntaxError\u001b[0m\u001b[1;31m:\u001b[0m invalid syntax\n"
     ]
    }
   ],
   "source": [
    "from ExplicitMF import ExplicitMF"
   ]
  },
  {
   "cell_type": "code",
   "execution_count": 8,
   "metadata": {},
   "outputs": [
    {
     "name": "stdout",
     "output_type": "stream",
     "text": [
      "Iteration: 1\n",
      "Train mse: 1.1417394965101548\n",
      "Test mse: 1.1884523125616617\n",
      "Iteration: 2\n",
      "Train mse: 1.0719419174621037\n",
      "Test mse: 1.1384934345265958\n",
      "Iteration: 5\n",
      "Train mse: 0.9755279384217389\n",
      "Test mse: 1.061802217089917\n",
      "Iteration: 10\n",
      "Train mse: 0.9179628673300955\n",
      "Test mse: 1.0113053267188021\n",
      "Iteration: 25\n",
      "\tcurrent iteration: 10\n",
      "Train mse: 0.8661998138627653\n",
      "Test mse: 0.9636711872991168\n",
      "Iteration: 50\n",
      "\tcurrent iteration: 10\n",
      "\tcurrent iteration: 20\n",
      "Train mse: 0.838529677270637\n",
      "Test mse: 0.943034989857226\n",
      "Iteration: 100\n",
      "\tcurrent iteration: 10\n",
      "\tcurrent iteration: 20\n",
      "\tcurrent iteration: 30\n",
      "\tcurrent iteration: 40\n",
      "\tcurrent iteration: 50\n",
      "Train mse: 0.7504425140524171\n",
      "Test mse: 0.9237273519979771\n",
      "Iteration: 200\n",
      "\tcurrent iteration: 10\n",
      "\tcurrent iteration: 20\n",
      "\tcurrent iteration: 30\n",
      "\tcurrent iteration: 40\n",
      "\tcurrent iteration: 50\n",
      "\tcurrent iteration: 60\n",
      "\tcurrent iteration: 70\n",
      "\tcurrent iteration: 80\n",
      "\tcurrent iteration: 90\n",
      "\tcurrent iteration: 100\n",
      "Train mse: 0.39972069552958\n",
      "Test mse: 0.9194200240335597\n"
     ]
    }
   ],
   "source": [
    "MF_SGD = ExplicitMF(train, 40, learning='sgd', verbose=True)\n",
    "iter_array = [1, 2, 5, 10, 25, 50, 100, 200]\n",
    "MF_SGD.calculate_learning_curve(iter_array, test, learning_rate=0.001)"
   ]
  },
  {
   "cell_type": "code",
   "execution_count": 10,
   "metadata": {},
   "outputs": [
    {
     "data": {
      "image/png": "[encoded data removed]",
      "text/plain": [
       "<matplotlib.figure.Figure at 0xcdba240>"
      ]
     },
     "metadata": {},
     "output_type": "display_data"
    }
   ],
   "source": [
    "import matplotlib.pyplot as plt\n",
    "import seaborn as sns\n",
    "sns.set()\n",
    "\n",
    "def plot_learning_curve(iter_array, model):\n",
    "    plt.plot(iter_array, model.train_mse, label='Training', linewidth=5)\n",
    "    plt.plot(iter_array, model.test_mse, label='Test', linewidth=5)\n",
    "    \n",
    "    plt.xticks(fontsize=16);\n",
    "    plt.yticks(fontsize=16);\n",
    "    plt.xlabel('iterations', fontsize=30);\n",
    "    plt.ylabel('MSE', fontsize=30);\n",
    "    plt.legend(loc='best', fontsize=20);\n",
    "    \n",
    "plot_learning_curve(iter_array, MF_SGD)"
   ]
  },
  {
   "cell_type": "code",
   "execution_count": 19,
   "metadata": {},
   "outputs": [
    {
     "name": "stdout",
     "output_type": "stream",
     "text": [
      "Rate: 1e-05\n",
      "New optimal hyperparameters\n",
      "learning_rate                                                1e-05\n",
      "model            <ExplicitMF.ExplicitMF instance at 0x000000000...\n",
      "n_iter                                                         200\n",
      "test_mse                                                   1.13841\n",
      "train_mse                                                  1.07205\n",
      "dtype: object\n",
      "Rate: 0.0001\n",
      "New optimal hyperparameters\n",
      "learning_rate                                               0.0001\n",
      "model            <ExplicitMF.ExplicitMF instance at 0x000000001...\n",
      "n_iter                                                         200\n",
      "test_mse                                                  0.973123\n",
      "train_mse                                                 0.876724\n",
      "dtype: object\n",
      "Rate: 0.001\n",
      "New optimal hyperparameters\n",
      "learning_rate                                                0.001\n",
      "model            <ExplicitMF.ExplicitMF instance at 0x000000001...\n",
      "n_iter                                                         200\n",
      "test_mse                                                  0.918365\n",
      "train_mse                                                 0.402019\n",
      "dtype: object\n",
      "Rate: 0.01\n"
     ]
    }
   ],
   "source": [
    "iter_array = [1, 2, 5, 10, 25, 50, 100, 200]\n",
    "learning_rates = [1e-5, 1e-4, 1e-3, 1e-2]\n",
    "\n",
    "best_params = {}\n",
    "best_params['learning_rate'] = None\n",
    "best_params['n_iter'] = 0\n",
    "best_params['train_mse'] = np.inf\n",
    "best_params['test_mse'] = np.inf\n",
    "best_params['model'] = None\n",
    "\n",
    "for rate in learning_rates:\n",
    "    print 'Rate: {}'.format(rate)\n",
    "    MF_SGD = ExplicitMF(train, n_factors=40, learning='sgd')\n",
    "    MF_SGD.calculate_learning_curve(iter_array, test, learning_rate=rate)\n",
    "    min_idx = np.argmin(MF_SGD.test_mse)\n",
    "    if MF_SGD.test_mse[min_idx] < best_params['test_mse']:        \n",
    "        best_params['n_iter'] = iter_array[min_idx]\n",
    "        best_params['learning_rate'] = rate\n",
    "        best_params['train_mse'] = MF_SGD.train_mse[min_idx]\n",
    "        best_params['test_mse'] = MF_SGD.test_mse[min_idx]\n",
    "        best_params['model'] = MF_SGD\n",
    "        print 'New optimal hyperparameters'\n",
    "        print pd.Series(best_params)"
   ]
  },
  {
   "cell_type": "code",
   "execution_count": 20,
   "metadata": {},
   "outputs": [
    {
     "name": "stdout",
     "output_type": "stream",
     "text": [
      "Factors: 5\n",
      "Regularizations: 0.001\n",
      "New optimal hyperparameters\n",
      "model        <ExplicitMF.ExplicitMF instance at 0x000000000...\n",
      "n_factors                                                    5\n",
      "n_iter                                                     100\n",
      "reg                                                      0.001\n",
      "test_mse                                              0.943688\n",
      "train_mse                                             0.768958\n",
      "dtype: object\n",
      "Regularizations: 0.01\n",
      "New optimal hyperparameters\n",
      "model        <ExplicitMF.ExplicitMF instance at 0x000000000...\n",
      "n_factors                                                    5\n",
      "n_iter                                                     100\n",
      "reg                                                       0.01\n",
      "test_mse                                              0.938148\n",
      "train_mse                                             0.753012\n",
      "dtype: object\n",
      "Regularizations: 0.1\n",
      "New optimal hyperparameters\n",
      "model        <ExplicitMF.ExplicitMF instance at 0x000000000...\n",
      "n_factors                                                    5\n",
      "n_iter                                                     200\n",
      "reg                                                        0.1\n",
      "test_mse                                              0.925521\n",
      "train_mse                                             0.779853\n",
      "dtype: object\n",
      "Regularizations: 1.0\n",
      "Factors: 10\n",
      "Regularizations: 0.001\n",
      "Regularizations: 0.01\n",
      "Regularizations: 0.1\n",
      "New optimal hyperparameters\n",
      "model        <ExplicitMF.ExplicitMF instance at 0x000000000...\n",
      "n_factors                                                   10\n",
      "n_iter                                                     200\n",
      "reg                                                        0.1\n",
      "test_mse                                              0.910655\n",
      "train_mse                                             0.763819\n",
      "dtype: object\n",
      "Regularizations: 1.0\n",
      "Factors: 20\n",
      "Regularizations: 0.001\n",
      "Regularizations: 0.01\n",
      "Regularizations: 0.1\n",
      "Regularizations: 1.0\n",
      "Factors: 40\n",
      "Regularizations: 0.001\n",
      "Regularizations: 0.01\n",
      "New optimal hyperparameters\n",
      "model        <ExplicitMF.ExplicitMF instance at 0x000000001...\n",
      "n_factors                                                   40\n",
      "n_iter                                                     200\n",
      "reg                                                       0.01\n",
      "test_mse                                              0.901226\n",
      "train_mse                                             0.453803\n",
      "dtype: object\n",
      "Regularizations: 0.1\n",
      "Regularizations: 1.0\n",
      "Factors: 80\n",
      "Regularizations: 0.001\n",
      "New optimal hyperparameters\n",
      "model        <ExplicitMF.ExplicitMF instance at 0x000000001...\n",
      "n_factors                                                   80\n",
      "n_iter                                                     200\n",
      "reg                                                      0.001\n",
      "test_mse                                              0.892799\n",
      "train_mse                                             0.407625\n",
      "dtype: object\n",
      "Regularizations: 0.01\n",
      "New optimal hyperparameters\n",
      "model        <ExplicitMF.ExplicitMF instance at 0x000000001...\n",
      "n_factors                                                   80\n",
      "n_iter                                                     200\n",
      "reg                                                       0.01\n",
      "test_mse                                               0.88785\n",
      "train_mse                                             0.473341\n",
      "dtype: object\n",
      "Regularizations: 0.1\n",
      "Regularizations: 1.0\n"
     ]
    }
   ],
   "source": [
    "iter_array = [1, 2, 5, 10, 25, 50, 100, 200]\n",
    "latent_factors = [5, 10, 20, 40, 80]\n",
    "regularizations = [0.001, 0.01, 0.1, 1.]\n",
    "regularizations.sort()\n",
    "\n",
    "best_params = {}\n",
    "best_params['n_factors'] = latent_factors[0]\n",
    "best_params['reg'] = regularizations[0]\n",
    "best_params['n_iter'] = 0\n",
    "best_params['train_mse'] = np.inf\n",
    "best_params['test_mse'] = np.inf\n",
    "best_params['model'] = None\n",
    "\n",
    "for fact in latent_factors:\n",
    "    print 'Factors: {}'.format(fact)\n",
    "    for reg in regularizations:\n",
    "        print 'Regularizations: {}'.format(reg)\n",
    "        MF_SGD = ExplicitMF(train, n_factors=fact, learning='sgd',\\\n",
    "                           user_fact_reg=reg, item_fact_reg=reg,\\\n",
    "                           user_bias_reg=reg, item_bias_reg=reg)\n",
    "        MF_SGD.calculate_learning_curve(iter_array, test,\\\n",
    "                                        learning_rate=0.001)\n",
    "        min_idx = np.argmin(MF_SGD.test_mse)\n",
    "        if MF_SGD.test_mse[min_idx] < best_params['test_mse']:\n",
    "            best_params['n_factors'] = fact\n",
    "            best_params['reg'] = reg\n",
    "            best_params['n_iter'] = iter_array[min_idx]\n",
    "            best_params['train_mse'] = MF_SGD.train_mse[min_idx]\n",
    "            best_params['test_mse'] = MF_SGD.test_mse[min_idx]\n",
    "            best_params['model'] = MF_SGD\n",
    "            print 'New optimal hyperparameters'\n",
    "            print pd.Series(best_params)"
   ]
  },
  {
   "cell_type": "code",
   "execution_count": 21,
   "metadata": {},
   "outputs": [
    {
     "data": {
      "image/png": "[encoded data removed]",
      "text/plain": [
       "<matplotlib.figure.Figure at 0x12e39e48>"
      ]
     },
     "metadata": {},
     "output_type": "display_data"
    }
   ],
   "source": [
    "plot_learning_curve(iter_array, best_params['model'])"
   ]
  },
  {
   "cell_type": "code",
   "execution_count": 22,
   "metadata": {},
   "outputs": [
    {
     "name": "stdout",
     "output_type": "stream",
     "text": [
      "Best regularization: 0.01\n",
      "Best latent factors: 80\n",
      "Best iterations: 200\n"
     ]
    }
   ],
   "source": [
    "print 'Best regularization: {}'.format(best_params['reg'])\n",
    "print 'Best latent factors: {}'.format(best_params['n_factors'])\n",
    "print 'Best iterations: {}'.format(best_params['n_iter'])"
   ]
  },
  {
   "cell_type": "code",
   "execution_count": 7,
   "metadata": {},
   "outputs": [],
   "source": [
    "best_sgd_model = ExplicitMF(ratings, n_factors=80, learning='sgd', \\\n",
    "                            item_fact_reg=0.01, user_fact_reg=0.01, \\\n",
    "                            user_bias_reg=0.01, item_bias_reg=0.01)\n",
    "best_sgd_model.train(200, learning_rate=0.001)"
   ]
  },
  {
   "cell_type": "code",
   "execution_count": 11,
   "metadata": {},
   "outputs": [],
   "source": [
    "from IPython.display import HTML\n",
    "\n",
    "def display_top_k_movies(similarity, idx_to_movie, movie_idx, k=5):\n",
    "    movie_indices = np.argsort(similarity[movie_idx,:])[::-1]\n",
    "    movie_idx_list = ''\n",
    "    k_ctr = 0\n",
    "    # Start i at 1 to not grab the input movie\n",
    "    i = 1\n",
    "    while k_ctr < 30:\n",
    "        movie = idx_to_movie[movie_indices[i]]\n",
    "        if movie != '':\n",
    "            movie_idx_list += \"<h4>- %s<h4/>\"\\\n",
    "                      % movie\n",
    "            k_ctr += 1\n",
    "        i += 1\n",
    "    display(HTML(movie_idx_list))\n",
    "\n",
    "def compare_recs(sgd_similarity, idx_to_movie\\\n",
    "                 , movie_idx, k=5):\n",
    "\n",
    "    # Display SGD Recs\n",
    "    display(HTML('<font size=5>'+'SGD Recs'+'</font>'))\n",
    "    display_top_k_movies(sgd_similarity,\\\n",
    "                         idx_to_movie, movie_idx)"
   ]
  },
  {
   "cell_type": "code",
   "execution_count": 9,
   "metadata": {},
   "outputs": [],
   "source": [
    "def cosine_similarity(model):\n",
    "    sim = model.item_vecs.dot(model.item_vecs.T)\n",
    "    norms = np.array([np.sqrt(np.diagonal(sim))])\n",
    "    return sim / norms / norms.T\n",
    "\n",
    "sgd_sim = cosine_similarity(best_sgd_model)"
   ]
  },
  {
   "cell_type": "code",
   "execution_count": 13,
   "metadata": {},
   "outputs": [],
   "source": [
    "sgd_sim = best_sgd_model.cosine_similarity()"
   ]
  },
  {
   "cell_type": "code",
   "execution_count": 12,
   "metadata": {},
   "outputs": [],
   "source": [
    "# Load in movie data\n",
    "idx_to_movie = {}\n",
    "with open('u.item', 'r') as f:\n",
    "    for line in f.readlines():\n",
    "        info = line.split('|')\n",
    "        idx_to_movie[int(info[0])-1] = info[0] + ' : ' + info[1]"
   ]
  },
  {
   "cell_type": "code",
   "execution_count": 15,
   "metadata": {},
   "outputs": [
    {
     "data": {
      "text/html": [
       "<font size=5>SGD Recs</font>"
      ],
      "text/plain": [
       "<IPython.core.display.HTML object>"
      ]
     },
     "metadata": {},
     "output_type": "display_data"
    },
    {
     "data": {
      "text/html": [
       "<h4>- 187 : Godfather: Part II, The (1974)<h4/><h4>- 192 : Raging Bull (1980)<h4/><h4>- 180 : Apocalypse Now (1979)<h4/><h4>- 193 : Right Stuff, The (1983)<h4/><h4>- 504 : Bonnie and Clyde (1967)<h4/><h4>- 335 : How to Be a Player (1997)<h4/><h4>- 1368 : Mina Tannenbaum (1994)<h4/><h4>- 997 : Stuart Saves His Family (1995)<h4/><h4>- 182 : GoodFellas (1990)<h4/><h4>- 357 : One Flew Over the Cuckoo's Nest (1975)<h4/><h4>- 23 : Taxi Driver (1976)<h4/><h4>- 671 : Bride of Frankenstein (1935)<h4/><h4>- 135 : 2001: A Space Odyssey (1968)<h4/><h4>- 1142 : When We Were Kings (1996)<h4/><h4>- 872 : Love Jones (1997)<h4/><h4>- 511 : Lawrence of Arabia (1962)<h4/><h4>- 521 : Deer Hunter, The (1978)<h4/><h4>- 185 : Psycho (1960)<h4/><h4>- 205 : Patton (1970)<h4/><h4>- 514 : Annie Hall (1977)<h4/><h4>- 792 : Bullets Over Broadway (1994)<h4/><h4>- 279 : Once Upon a Time... When We Were Colored (1995)<h4/><h4>- 880 : Soul Food (1997)<h4/><h4>- 200 : Shining, The (1980)<h4/><h4>- 445 : Body Snatcher, The (1945)<h4/><h4>- 1333 : Midnight Dancers (Sibak) (1994)<h4/><h4>- 197 : Graduate, The (1967)<h4/><h4>- 693 : Casino (1995)<h4/><h4>- 191 : Amadeus (1984)<h4/><h4>- 444 : Blob, The (1958)<h4/>"
      ],
      "text/plain": [
       "<IPython.core.display.HTML object>"
      ]
     },
     "metadata": {},
     "output_type": "display_data"
    }
   ],
   "source": [
    "idx = 126 # Toy Story\n",
    "compare_recs(sgd_sim, idx_to_movie, idx)"
   ]
  },
  {
   "cell_type": "code",
   "execution_count": 19,
   "metadata": {},
   "outputs": [],
   "source": [
    "my_ratings = np.zeros((1682, 1))"
   ]
  },
  {
   "cell_type": "code",
   "execution_count": 20,
   "metadata": {},
   "outputs": [],
   "source": [
    "# Action/Gangster\n",
    "# my_ratings[587] = 5\n",
    "# my_ratings[70] = 5\n",
    "# my_ratings[5] = 5\n",
    "# my_ratings[52] = 4\n",
    "# my_ratings[126] = 5\n",
    "# my_ratings[121] = 4\n",
    "# my_ratings[830] = 5\n",
    "# my_ratings[186] = 5\n",
    "# my_ratings[1378] = 1\n",
    "\n",
    "#Animation\n",
    "my_ratings[0] = 5\n",
    "my_ratings[587] = 2\n",
    "my_ratings[94] = 5\n",
    "my_ratings[70] = 1\n",
    "my_ratings[425] = 2\n",
    "my_ratings[500] = 4\n",
    "my_ratings[417] = 5\n",
    "my_ratings[968] = 5\n",
    "my_ratings[464] = 5\n",
    "my_ratings[5] = 2\n",
    "my_ratings[52] = 1\n",
    "my_ratings[126] = 2\n",
    "my_ratings[150] = 1\n",
    "my_ratings[186] = 2\n",
    "my_ratings[1378] = 2\n",
    "\n",
    "# my_ratings[0] = 4  \n",
    "# my_ratings[6] = 3  \n",
    "# my_ratings[11] = 5  \n",
    "# my_ratings[53] = 4  \n",
    "# my_ratings[63] = 5  \n",
    "# my_ratings[65] = 3  \n",
    "# my_ratings[68] = 5  \n",
    "# my_ratings[97] = 2  \n",
    "# my_ratings[182] = 4  \n",
    "# my_ratings[225] = 5  \n",
    "# my_ratings[354] = 5"
   ]
  },
  {
   "cell_type": "code",
   "execution_count": 9,
   "metadata": {},
   "outputs": [],
   "source": [
    "users = ratings.shape[0]\n",
    "movies = ratings.shape[1]\n",
    "movies_mean = np.zeros((1, movies))\n",
    "movies_norm = np.zeros((users, movies))\n",
    "\n",
    "R = np.zeros((users,movies))\n",
    "for us in range(users):\n",
    "    for mo in range(movies):\n",
    "        if ratings[us,mo] >= 1.0:\n",
    "            R[us,mo] = 1\n",
    "        else:\n",
    "            R[us,mo] = 0\n",
    "\n",
    "for i in range(movies):\n",
    "    idx = np.where(R[:,i] == 1)[0]\n",
    "    movies_mean[0][i] = ratings[idx,i].mean()\n",
    "    movies_norm[idx,i] = ratings[idx,i] - movies_mean[0][i]"
   ]
  },
  {
   "cell_type": "code",
   "execution_count": 9,
   "metadata": {},
   "outputs": [
    {
     "ename": "NameError",
     "evalue": "name 'my_ratings' is not defined",
     "output_type": "error",
     "traceback": [
      "\u001b[1;31m---------------------------------------------------------------------------\u001b[0m",
      "\u001b[1;31mNameError\u001b[0m                                 Traceback (most recent call last)",
      "\u001b[1;32m<ipython-input-9-bf78192a1818>\u001b[0m in \u001b[0;36m<module>\u001b[1;34m()\u001b[0m\n\u001b[0;32m      2\u001b[0m \u001b[1;33m\u001b[0m\u001b[0m\n\u001b[0;32m      3\u001b[0m \u001b[1;31m#ratings_edit = np.delete(ratings, (-1), axis=0)\u001b[0m\u001b[1;33m\u001b[0m\u001b[1;33m\u001b[0m\u001b[0m\n\u001b[1;32m----> 4\u001b[1;33m \u001b[0mratings_edit\u001b[0m \u001b[1;33m=\u001b[0m \u001b[0mnp\u001b[0m\u001b[1;33m.\u001b[0m\u001b[0mappend\u001b[0m\u001b[1;33m(\u001b[0m\u001b[0mratings_edit\u001b[0m\u001b[1;33m,\u001b[0m \u001b[0mmy_ratings\u001b[0m\u001b[1;33m.\u001b[0m\u001b[0mT\u001b[0m\u001b[1;33m,\u001b[0m \u001b[0maxis\u001b[0m\u001b[1;33m=\u001b[0m\u001b[1;36m0\u001b[0m\u001b[1;33m)\u001b[0m\u001b[1;33m\u001b[0m\u001b[0m\n\u001b[0m\u001b[0;32m      5\u001b[0m \u001b[1;33m\u001b[0m\u001b[0m\n\u001b[0;32m      6\u001b[0m \u001b[1;33m\u001b[0m\u001b[0m\n",
      "\u001b[1;31mNameError\u001b[0m: name 'my_ratings' is not defined"
     ]
    }
   ],
   "source": [
    "ratings_edit = ratings\n",
    "\n",
    "#ratings_edit = np.delete(ratings, (-1), axis=0)\n",
    "ratings_edit = np.append(ratings_edit, my_ratings.T, axis=0)\n",
    "\n",
    "\n",
    "users = ratings_edit.shape[0]\n",
    "movies = ratings_edit.shape[1]\n",
    "movies_mean = np.zeros((1, movies))\n",
    "movies_norm = np.zeros((users, movies))\n",
    "\n",
    "R = np.zeros((users,movies))\n",
    "for us in range(users):\n",
    "    for mo in range(movies):\n",
    "        if ratings_edit[us,mo] >= 1.0:\n",
    "            R[us,mo] = 1\n",
    "        else:\n",
    "            R[us,mo] = 0\n",
    "\n",
    "for i in range(movies):\n",
    "    idx = np.where(R[:,i] == 1)[0]\n",
    "    movies_mean[0][i] = ratings_edit[idx,i].mean()\n",
    "    movies_norm[idx,i] = ratings_edit[idx,i] - movies_mean[0][i]"
   ]
  },
  {
   "cell_type": "code",
   "execution_count": 10,
   "metadata": {},
   "outputs": [],
   "source": [
    "best_sgd_model = ExplicitMF(movies_norm, n_factors=80, learning='sgd', \\\n",
    "                            item_fact_reg=0.01, user_fact_reg=0.01, \\\n",
    "                            user_bias_reg=0.01, item_bias_reg=0.01)\n",
    "best_sgd_model.train(200, learning_rate=0.001)"
   ]
  },
  {
   "cell_type": "code",
   "execution_count": 13,
   "metadata": {},
   "outputs": [],
   "source": [
    "predict_all_user = best_sgd_model.predict_all()"
   ]
  },
  {
   "cell_type": "code",
   "execution_count": 18,
   "metadata": {},
   "outputs": [
    {
     "data": {
      "text/plain": [
       "array([8.4652298 , 8.4326873 , 8.31134237, 8.30037969, 8.25657492,\n",
       "       8.25280383, 8.23684771, 8.22305086, 8.21893635, 8.18440278])"
      ]
     },
     "execution_count": 18,
     "metadata": {},
     "output_type": "execute_result"
    }
   ],
   "source": [
    "my_preds = predict_all_user[-1,:] + movies_mean[0]\n",
    "sorted_preds = np.sort(my_preds, axis=0)[::-1]\n",
    "sorted_preds[:10]"
   ]
  },
  {
   "cell_type": "code",
   "execution_count": 19,
   "metadata": {},
   "outputs": [
    {
     "name": "stdout",
     "output_type": "stream",
     "text": [
      "Top 10 movie recommendation\n"
     ]
    },
    {
     "data": {
      "text/html": [
       "<h4>- 318 : Schindler's List (1993)<h4/><h4>- 483 : Casablanca (1942)<h4/><h4>- 1189 : Prefontaine (1997)<h4/><h4>- 1293 : Star Kid (1997)<h4/><h4>- 1500 : Santa with Muscles (1996)<h4/><h4>- 1467 : Saint of Fort Washington, The (1993)<h4/><h4>- 64 : Shawshank Redemption, The (1994)<h4/><h4>- 169 : Wrong Trousers, The (1993)<h4/><h4>- 408 : Close Shave, A (1995)<h4/><h4>- 114 : Wallace & Gromit: The Best of Aardman Animation (1996)<h4/><h4>- 1536 : Aiqing wansui (1994)<h4/><h4>- 1653 : Entertaining Angels: The Dorothy Day Story (1996)<h4/><h4>- 313 : Titanic (1997)<h4/><h4>- 603 : Rear Window (1954)<h4/><h4>- 1599 : Someone Else's America (1995)<h4/><h4>- 814 : Great Day in Harlem, A (1994)<h4/><h4>- 513 : Third Man, The (1949)<h4/><h4>- 1122 : They Made Me a Criminal (1939)<h4/><h4>- 1201 : Marlene Dietrich: Shadow and Light (1996) <h4/><h4>- 98 : Silence of the Lambs, The (1991)<h4/>"
      ],
      "text/plain": [
       "<IPython.core.display.HTML object>"
      ]
     },
     "metadata": {},
     "output_type": "display_data"
    }
   ],
   "source": [
    "my_idx = np.argsort(my_preds, axis=0)[::-1]\n",
    "\n",
    "def display_only(my_idx, idx_to_movie):\n",
    "    movie_idx_list = ''\n",
    "    k_ctr = 0\n",
    "    i = 1\n",
    "    while k_ctr < 20:\n",
    "        movie = idx_to_movie[my_idx[i]]\n",
    "        if movie != '':\n",
    "            movie_idx_list += \"<h4>- %s<h4/>\"\\\n",
    "                      % movie\n",
    "            k_ctr += 1\n",
    "        i += 1\n",
    "    display(HTML(movie_idx_list))\n",
    "    \n",
    "print(\"Top 10 movie recommendation\")\n",
    "display_only(my_idx, idx_to_movie)"
   ]
  },
  {
   "cell_type": "code",
   "execution_count": 21,
   "metadata": {},
   "outputs": [
    {
     "data": {
      "text/plain": [
       "array([[37.7508552 ,  1.65018738, -8.95242707, ...,  0.05850079,\n",
       "         0.49539755, -0.24913026]])"
      ]
     },
     "execution_count": 21,
     "metadata": {},
     "output_type": "execute_result"
    }
   ],
   "source": [
    "new_user_rec = my_ratings.T.dot(best_sgd_model.item_vecs)\\\n",
    "                    .dot(best_sgd_model.item_vecs.T)\n",
    "    \n",
    "new_user_rec"
   ]
  },
  {
   "cell_type": "code",
   "execution_count": 33,
   "metadata": {},
   "outputs": [
    {
     "data": {
      "text/plain": [
       "array([7.63973974, 4.57195567, 5.73652834, ..., 2.00897689, 2.9195613 ,\n",
       "       2.84566493])"
      ]
     },
     "execution_count": 33,
     "metadata": {},
     "output_type": "execute_result"
    }
   ],
   "source": [
    "new_user_rec = movies_norm[-1,:].dot(best_sgd_model.item_vecs)\\\n",
    "                    .dot(best_sgd_model.item_vecs.T)\n",
    "    \n",
    "new_user_rec = new_user_rec + movies_mean[0]\n",
    "\n",
    "new_user_rec"
   ]
  },
  {
   "cell_type": "code",
   "execution_count": 22,
   "metadata": {},
   "outputs": [
    {
     "data": {
      "text/plain": [
       "array([37.7508552 , 29.58132802, 27.04501292, 26.54252701, 25.95917472,\n",
       "       25.95689404, 25.23043902, 23.12748587, 22.3477972 , 21.13632531,\n",
       "       20.05476214, 19.9177854 , 19.81680054, 19.13557397, 18.9522382 ,\n",
       "       18.61891387, 17.1944145 , 16.72224261, 16.683199  , 15.60897341,\n",
       "       15.2938833 , 14.81100467, 14.76383354, 14.50421971, 14.4037731 ,\n",
       "       14.28569755, 14.22828477, 14.12872401, 13.74016158, 13.71608792])"
      ]
     },
     "execution_count": 22,
     "metadata": {},
     "output_type": "execute_result"
    }
   ],
   "source": [
    "# movies_new = my_ratings.shape[0]\n",
    "# my_preds = np.zeros((1,movies_new))\n",
    "\n",
    "# for u in xrange(new_user_rec.shape[0]):\n",
    "#     for m in xrange(best_sgd_model.item_vecs.shape[0]):\n",
    "#         my_preds[u,m] = best_sgd_model.global_bias + best_sgd_model.user_bias[u] + best_sgd_model.item_bias[i]\n",
    "#         my_preds[u,m] += new_user_rec[u, :].dot(best_sgd_model.item_vecs[i, :].T)\n",
    "\n",
    "# my_preds = new_user_rec.dot(best_sgd_model.item_vecs.T)\n",
    "\n",
    "\n",
    "sorted_preds = np.sort(new_user_rec[0,:], axis=0)[::-1]\n",
    "sorted_preds[:30]"
   ]
  },
  {
   "cell_type": "code",
   "execution_count": 23,
   "metadata": {},
   "outputs": [
    {
     "name": "stdout",
     "output_type": "stream",
     "text": [
      "Top 10 movie recommendation\n"
     ]
    },
    {
     "data": {
      "text/html": [
       "<h4>- 151 : Willy Wonka and the Chocolate Factory (1971)<h4/><h4>- 418 : Cinderella (1950)<h4/><h4>- 95 : Aladdin (1992)<h4/><h4>- 501 : Dumbo (1941)<h4/><h4>- 588 : Beauty and the Beast (1991)<h4/><h4>- 143 : Sound of Music, The (1965)<h4/><h4>- 423 : E.T. the Extra-Terrestrial (1982)<h4/><h4>- 496 : It's a Wonderful Life (1946)<h4/><h4>- 71 : Lion King, The (1994)<h4/><h4>- 99 : Snow White and the Seven Dwarfs (1937)<h4/><h4>- 404 : Pinocchio (1940)<h4/><h4>- 378 : Miracle on 34th Street (1994)<h4/><h4>- 288 : Scream (1996)<h4/><h4>- 419 : Mary Poppins (1964)<h4/><h4>- 132 : Wizard of Oz, The (1939)<h4/><h4>- 969 : Winnie the Pooh and the Blustery Day (1968)<h4/><h4>- 50 : Star Wars (1977)<h4/><h4>- 705 : Singin' in the Rain (1952)<h4/><h4>- 946 : Fox and the Hound, The (1981)<h4/><h4>- 465 : Jungle Book, The (1994)<h4/><h4>- 172 : Empire Strikes Back, The (1980)<h4/><h4>- 194 : Sting, The (1973)<h4/><h4>- 88 : Sleepless in Seattle (1993)<h4/><h4>- 191 : Amadeus (1984)<h4/><h4>- 393 : Mrs. Doubtfire (1993)<h4/><h4>- 215 : Field of Dreams (1989)<h4/><h4>- 275 : Sense and Sensibility (1995)<h4/><h4>- 485 : My Fair Lady (1964)<h4/><h4>- 133 : Gone with the Wind (1939)<h4/><h4>- 234 : Jaws (1975)<h4/>"
      ],
      "text/plain": [
       "<IPython.core.display.HTML object>"
      ]
     },
     "metadata": {},
     "output_type": "display_data"
    }
   ],
   "source": [
    "my_idx = np.argsort(new_user_rec[0,:], axis=0)[::-1]\n",
    "\n",
    "def display_only(my_idx, idx_to_movie):\n",
    "    movie_idx_list = ''\n",
    "    k_ctr = 0\n",
    "    i = 1\n",
    "    while k_ctr < 30:\n",
    "        movie = idx_to_movie[my_idx[i]]\n",
    "        if movie != '':\n",
    "            movie_idx_list += \"<h4>- %s<h4/>\"\\\n",
    "                      % movie\n",
    "            k_ctr += 1\n",
    "        i += 1\n",
    "    display(HTML(movie_idx_list))\n",
    "    \n",
    "print(\"Top 10 movie recommendation\")\n",
    "display_only(my_idx, idx_to_movie)"
   ]
  },
  {
   "cell_type": "code",
   "execution_count": 3,
   "metadata": {},
   "outputs": [],
   "source": [
    "X = np.array([[1], [2], [3]])\n",
    "y = np.array([[1], [2.5], [3.5]])"
   ]
  },
  {
   "cell_type": "code",
   "execution_count": 4,
   "metadata": {},
   "outputs": [],
   "source": [
    "get_theta = lambda theta: np.array([[0, theta]])"
   ]
  },
  {
   "cell_type": "code",
   "execution_count": 5,
   "metadata": {},
   "outputs": [
    {
     "name": "stdout",
     "output_type": "stream",
     "text": [
      "[array([[0. , 0.5]]), array([[0., 1.]]), array([[0. , 1.5]])]\n"
     ]
    }
   ],
   "source": [
    "thetas = list(map(get_theta, [0.5, 1.0, 1.5]))\n",
    "print(thetas)"
   ]
  },
  {
   "cell_type": "code",
   "execution_count": 6,
   "metadata": {},
   "outputs": [
    {
     "name": "stdout",
     "output_type": "stream",
     "text": [
      "[[1. 1.]\n",
      " [1. 2.]\n",
      " [1. 3.]]\n"
     ]
    }
   ],
   "source": [
    "X = np.hstack([np.ones([3, 1]), X])\n",
    "print(X)"
   ]
  },
  {
   "cell_type": "code",
   "execution_count": 7,
   "metadata": {},
   "outputs": [],
   "source": [
    "def cost(X, y, theta):\n",
    "    inner = np.power(((X @ theta.T) - y), 2)\n",
    "    return np.sum(inner) / (2 * len(X))"
   ]
  },
  {
   "cell_type": "code",
   "execution_count": 8,
   "metadata": {},
   "outputs": [
    {
     "name": "stdout",
     "output_type": "stream",
     "text": [
      "1.0833333333333333\n",
      "0.08333333333333333\n",
      "0.25\n"
     ]
    }
   ],
   "source": [
    "for i in range(len(thetas)):\n",
    "    print(cost(X, y, thetas[i]))"
   ]
  },
  {
   "cell_type": "code",
   "execution_count": null,
   "metadata": {},
   "outputs": [],
   "source": []
  },
  {
   "cell_type": "code",
   "execution_count": 7,
   "metadata": {},
   "outputs": [
    {
     "name": "stdout",
     "output_type": "stream",
     "text": [
      "[[-0.17415943 -0.11576993]\n",
      " [-0.06231051  0.01123307]\n",
      " [-0.23302997  0.1801653 ]\n",
      " [ 0.09313249 -0.30724874]]\n"
     ]
    }
   ],
   "source": [
    "#initialize random number\n",
    "user_vecs = np.random.normal(scale=1./5,size=(4,2))\n",
    "print(user_vecs)"
   ]
  },
  {
   "cell_type": "code",
   "execution_count": 9,
   "metadata": {},
   "outputs": [
    {
     "name": "stdout",
     "output_type": "stream",
     "text": [
      "[-0.17415943 -0.11576993]\n"
     ]
    }
   ],
   "source": [
    "print(user_vecs[0,:])"
   ]
  },
  {
   "cell_type": "code",
   "execution_count": 10,
   "metadata": {},
   "outputs": [
    {
     "name": "stdout",
     "output_type": "stream",
     "text": [
      "[[ 0.29765044  0.37917784]\n",
      " [ 0.23575591 -0.03598497]\n",
      " [-0.21415052  0.21089035]\n",
      " [-0.08063539  0.24448901]\n",
      " [ 0.041655    0.19532781]]\n"
     ]
    }
   ],
   "source": [
    "item_vecs = np.random.normal(scale=1./5,size=(5,2))\n",
    "print(item_vecs)"
   ]
  },
  {
   "cell_type": "code",
   "execution_count": 21,
   "metadata": {},
   "outputs": [],
   "source": [
    "item_vecs = np.matrix([[-0.17415943,-0.11576993],\n",
    "             [-0.06231051,0.01123307],\n",
    "             [-0.23302997,0.1801653 ],\n",
    "             [ 0.09313249,-0.30724874]])\n",
    "\n",
    "user_vecs = np.matrix([[ 0.29765044,0.37917784],\n",
    "             [ 0.23575591,-0.03598497],\n",
    "             [-0.21415052,0.21089035],\n",
    "             [-0.08063539,0.24448901],\n",
    "             [ 0.041655,0.19532781]])"
   ]
  },
  {
   "cell_type": "code",
   "execution_count": 22,
   "metadata": {},
   "outputs": [
    {
     "name": "stdout",
     "output_type": "stream",
     "text": [
      "[[-0.09573602]]\n"
     ]
    }
   ],
   "source": [
    "prediction = user_vecs[0, :].dot(item_vecs[0, :].T)\n",
    "print(prediction)"
   ]
  },
  {
   "cell_type": "code",
   "execution_count": null,
   "metadata": {},
   "outputs": [],
   "source": []
  },
  {
   "cell_type": "code",
   "execution_count": 9,
   "metadata": {},
   "outputs": [],
   "source": [
    "item_vecs = np.matrix([[ 0.90998808, -1.00154913],\n",
    "       [ 0.85788531, -0.89118291],\n",
    "       [ 0.3216885 , -1.11450449],\n",
    "       [-0.81248112,  1.22473547],\n",
    "       [-1.12746689,  0.89871308]])\n",
    "\n",
    "user_vecs = np.matrix([[ 1.47868693, -0.42541134],\n",
    "       [ 1.16749823, -0.64959742],\n",
    "       [-0.58802807,  1.56414819],\n",
    "       [-0.10761304,  1.52321668]])"
   ]
  },
  {
   "cell_type": "code",
   "execution_count": 10,
   "metadata": {},
   "outputs": [
    {
     "name": "stdout",
     "output_type": "stream",
     "text": [
      "[[ 1.77165784  1.64766311  0.94979943 -1.72242157 -2.04949329]]\n"
     ]
    }
   ],
   "source": [
    "user_pref = user_vecs[0, :].dot(item_vecs.T)\n",
    "print(user_pref)"
   ]
  },
  {
   "cell_type": "code",
   "execution_count": 15,
   "metadata": {},
   "outputs": [
    {
     "name": "stdout",
     "output_type": "stream",
     "text": [
      "[[-2.10166979 -1.89840278 -1.93241205  2.39342947  2.06870262]]\n"
     ]
    }
   ],
   "source": [
    "user_pref2 = user_vecs[2, :].dot(item_vecs.T)\n",
    "print(user_pref2)"
   ]
  },
  {
   "cell_type": "code",
   "execution_count": null,
   "metadata": {},
   "outputs": [],
   "source": []
  }
 ],
 "metadata": {
  "kernelspec": {
   "display_name": "py36",
   "language": "python",
   "name": "py36"
  },
  "language_info": {
   "codemirror_mode": {
    "name": "ipython",
    "version": 3
   },
   "file_extension": ".py",
   "mimetype": "text/x-python",
   "name": "python",
   "nbconvert_exporter": "python",
   "pygments_lexer": "ipython3",
   "version": "3.6.4"
  }
 },
 "nbformat": 4,
 "nbformat_minor": 2
}
